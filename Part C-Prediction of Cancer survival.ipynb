{
 "cells": [
  {
   "cell_type": "markdown",
   "metadata": {},
   "source": [
    "## PART C - PREDICTION OF CANCER SURVIVAL\n",
    "\n",
    "Dataset : Wisconsin Prognostic Breast Cancer Dataset\n",
    "\n",
    "Glossary:\n",
    "This file contains patients' nuclear features, survival time and chemotherapy \n",
    "information.  The 39 columns contain the following information:\n",
    "\n",
    "* Patient's artificially created number i=1,......,253.\n",
    "* 2.  code_a = 0 if non-recur\n",
    "             = 1 if recur\n",
    "* 3.  code_b = 0 if death is not caused by cancer or person leaves the group\n",
    "\t\t     = 1 if death is caused by cancer\n",
    "* 4.  time_a = time (months) DFS/TTR \n",
    "\t\t       DFS : Disease Free Survival (code a=0)\n",
    "         \t   TTR : Time To Recur (if code a=1)\n",
    "* 5.  time_b = survival time (months) for patients who die, leave or survive the total time of the study 158 months at December 1997.\n",
    "* 6.  radius\n",
    "* 7.  texture\n",
    "* 8.  perimeter\n",
    "* 9.  area\n",
    "* 10.  smoothness\n",
    "* 11.  compactness\n",
    "* 12.  concavity\n",
    "* 13.  concave point\n",
    "* 14.  symmetry\n",
    "* 15.  fractal dimension\n",
    "* 16. to 25. Standard devisation of 6. to 15. above\n",
    "* 26. to 35. Largest (worst) of 6. to 15. above\n",
    "* 36.  tumor size\n",
    "* 37.  Q(i, 36) = Lymph node status \n",
    "\t  (number of metastasized lymph nodes: 0 to 30)\n",
    "* 38.   hormo = 1 if patient received first chemotherapy\n",
    "\t\t\t  = 0 otherwise\n",
    "* 39.   chemo = 1 if patient received second chemotherapy\n",
    "\t\t\t  = 0 otherwise\n",
    "\n",
    "              "
   ]
  },
  {
   "cell_type": "code",
   "execution_count": 15,
   "metadata": {},
   "outputs": [],
   "source": [
    "import matplotlib.pyplot as plt\n",
    "import numpy as np\n",
    "import pandas as pd\n",
    "import seaborn as sns\n",
    "from sklearn.decomposition import PCA\n",
    "from sklearn.preprocessing import StandardScaler\n",
    "\n",
    "from sklearn import metrics\n",
    "from time import time\n",
    "%matplotlib inline"
   ]
  },
  {
   "cell_type": "markdown",
   "metadata": {},
   "source": [
    "**Installing packages**\n",
    "Credits:[Randal Olson TPOT](http://www.randalolson.com/2015/11/15/introducing-tpot-the-data-science-assistant/)\n",
    "\n",
    "TPOT is a Python Automated Machine Learning tool that optimizes machine learning pipelines using genetic programming.\n",
    "TPOT will automate the most tedious part of machine learning by intelligently exploring thousands of possible pipelines to find the best one for our data.Once TPOT is finished searching, it provides us with the Python code for the best pipeline it found so you can tinker with the pipeline from there."
   ]
  },
  {
   "cell_type": "code",
   "execution_count": 16,
   "metadata": {},
   "outputs": [],
   "source": [
    "from tpot import TPOTClassifier\n",
    "from sklearn.ensemble import RandomForestRegressor\n",
    "from sklearn.model_selection import train_test_split"
   ]
  },
  {
   "cell_type": "code",
   "execution_count": 17,
   "metadata": {},
   "outputs": [
    {
     "data": {
      "text/html": [
       "<div>\n",
       "<style>\n",
       "    .dataframe thead tr:only-child th {\n",
       "        text-align: right;\n",
       "    }\n",
       "\n",
       "    .dataframe thead th {\n",
       "        text-align: left;\n",
       "    }\n",
       "\n",
       "    .dataframe tbody tr th {\n",
       "        vertical-align: top;\n",
       "    }\n",
       "</style>\n",
       "<table border=\"1\" class=\"dataframe\">\n",
       "  <thead>\n",
       "    <tr style=\"text-align: right;\">\n",
       "      <th></th>\n",
       "      <th>PATIENT</th>\n",
       "      <th>CODE_A</th>\n",
       "      <th>CODE_B</th>\n",
       "      <th>TIME_A</th>\n",
       "      <th>TIME_B</th>\n",
       "      <th>RADIUS</th>\n",
       "      <th>TEXTURE</th>\n",
       "      <th>PERIMETR</th>\n",
       "      <th>AREA</th>\n",
       "      <th>SMOOTH</th>\n",
       "      <th>...</th>\n",
       "      <th>WSMOOTH</th>\n",
       "      <th>WCOMPCT</th>\n",
       "      <th>WCONCV</th>\n",
       "      <th>WCONV_PT</th>\n",
       "      <th>WSYMM</th>\n",
       "      <th>WFRACT_D</th>\n",
       "      <th>SIZE</th>\n",
       "      <th>NODE_ALL</th>\n",
       "      <th>CHEMO</th>\n",
       "      <th>HORMO</th>\n",
       "    </tr>\n",
       "  </thead>\n",
       "  <tbody>\n",
       "    <tr>\n",
       "      <th>0</th>\n",
       "      <td>1</td>\n",
       "      <td>0</td>\n",
       "      <td>0</td>\n",
       "      <td>55</td>\n",
       "      <td>55</td>\n",
       "      <td>18.02</td>\n",
       "      <td>27.60</td>\n",
       "      <td>117.50</td>\n",
       "      <td>1013.0</td>\n",
       "      <td>0.09489</td>\n",
       "      <td>...</td>\n",
       "      <td>0.1195</td>\n",
       "      <td>0.1926</td>\n",
       "      <td>0.3140</td>\n",
       "      <td>0.11700</td>\n",
       "      <td>0.2677</td>\n",
       "      <td>0.08113</td>\n",
       "      <td>5.0</td>\n",
       "      <td>5</td>\n",
       "      <td>1</td>\n",
       "      <td>1</td>\n",
       "    </tr>\n",
       "    <tr>\n",
       "      <th>1</th>\n",
       "      <td>2</td>\n",
       "      <td>0</td>\n",
       "      <td>0</td>\n",
       "      <td>29</td>\n",
       "      <td>29</td>\n",
       "      <td>14.09</td>\n",
       "      <td>27.70</td>\n",
       "      <td>96.01</td>\n",
       "      <td>604.7</td>\n",
       "      <td>0.11860</td>\n",
       "      <td>...</td>\n",
       "      <td>0.1555</td>\n",
       "      <td>0.5988</td>\n",
       "      <td>0.7392</td>\n",
       "      <td>0.18710</td>\n",
       "      <td>0.2497</td>\n",
       "      <td>0.11830</td>\n",
       "      <td>0.8</td>\n",
       "      <td>0</td>\n",
       "      <td>0</td>\n",
       "      <td>0</td>\n",
       "    </tr>\n",
       "    <tr>\n",
       "      <th>2</th>\n",
       "      <td>3</td>\n",
       "      <td>0</td>\n",
       "      <td>0</td>\n",
       "      <td>53</td>\n",
       "      <td>53</td>\n",
       "      <td>13.32</td>\n",
       "      <td>27.25</td>\n",
       "      <td>85.99</td>\n",
       "      <td>551.7</td>\n",
       "      <td>0.08446</td>\n",
       "      <td>...</td>\n",
       "      <td>0.1197</td>\n",
       "      <td>0.3018</td>\n",
       "      <td>0.3039</td>\n",
       "      <td>0.11670</td>\n",
       "      <td>0.2859</td>\n",
       "      <td>0.08557</td>\n",
       "      <td>1.3</td>\n",
       "      <td>0</td>\n",
       "      <td>0</td>\n",
       "      <td>0</td>\n",
       "    </tr>\n",
       "    <tr>\n",
       "      <th>3</th>\n",
       "      <td>4</td>\n",
       "      <td>1</td>\n",
       "      <td>0</td>\n",
       "      <td>12</td>\n",
       "      <td>68</td>\n",
       "      <td>15.11</td>\n",
       "      <td>32.79</td>\n",
       "      <td>99.36</td>\n",
       "      <td>712.3</td>\n",
       "      <td>0.09656</td>\n",
       "      <td>...</td>\n",
       "      <td>0.1408</td>\n",
       "      <td>0.4667</td>\n",
       "      <td>0.6024</td>\n",
       "      <td>0.12780</td>\n",
       "      <td>0.2773</td>\n",
       "      <td>0.10450</td>\n",
       "      <td>2.5</td>\n",
       "      <td>0</td>\n",
       "      <td>0</td>\n",
       "      <td>0</td>\n",
       "    </tr>\n",
       "    <tr>\n",
       "      <th>4</th>\n",
       "      <td>5</td>\n",
       "      <td>0</td>\n",
       "      <td>0</td>\n",
       "      <td>56</td>\n",
       "      <td>56</td>\n",
       "      <td>13.99</td>\n",
       "      <td>36.52</td>\n",
       "      <td>92.27</td>\n",
       "      <td>598.3</td>\n",
       "      <td>0.11780</td>\n",
       "      <td>...</td>\n",
       "      <td>0.1613</td>\n",
       "      <td>0.2520</td>\n",
       "      <td>0.3125</td>\n",
       "      <td>0.09596</td>\n",
       "      <td>0.2154</td>\n",
       "      <td>0.07969</td>\n",
       "      <td>0.8</td>\n",
       "      <td>1</td>\n",
       "      <td>0</td>\n",
       "      <td>1</td>\n",
       "    </tr>\n",
       "  </tbody>\n",
       "</table>\n",
       "<p>5 rows × 39 columns</p>\n",
       "</div>"
      ],
      "text/plain": [
       "   PATIENT  CODE_A  CODE_B  TIME_A  TIME_B  RADIUS  TEXTURE  PERIMETR    AREA  \\\n",
       "0        1       0       0      55      55   18.02    27.60    117.50  1013.0   \n",
       "1        2       0       0      29      29   14.09    27.70     96.01   604.7   \n",
       "2        3       0       0      53      53   13.32    27.25     85.99   551.7   \n",
       "3        4       1       0      12      68   15.11    32.79     99.36   712.3   \n",
       "4        5       0       0      56      56   13.99    36.52     92.27   598.3   \n",
       "\n",
       "    SMOOTH  ...    WSMOOTH  WCOMPCT  WCONCV  WCONV_PT   WSYMM  WFRACT_D  SIZE  \\\n",
       "0  0.09489  ...     0.1195   0.1926  0.3140   0.11700  0.2677   0.08113   5.0   \n",
       "1  0.11860  ...     0.1555   0.5988  0.7392   0.18710  0.2497   0.11830   0.8   \n",
       "2  0.08446  ...     0.1197   0.3018  0.3039   0.11670  0.2859   0.08557   1.3   \n",
       "3  0.09656  ...     0.1408   0.4667  0.6024   0.12780  0.2773   0.10450   2.5   \n",
       "4  0.11780  ...     0.1613   0.2520  0.3125   0.09596  0.2154   0.07969   0.8   \n",
       "\n",
       "   NODE_ALL  CHEMO  HORMO  \n",
       "0         5      1      1  \n",
       "1         0      0      0  \n",
       "2         0      0      0  \n",
       "3         0      0      0  \n",
       "4         1      0      1  \n",
       "\n",
       "[5 rows x 39 columns]"
      ]
     },
     "execution_count": 17,
     "metadata": {},
     "output_type": "execute_result"
    }
   ],
   "source": [
    "## importing the dataset\n",
    "dataset = pd.read_csv(\"WPBCC.csv\")\n",
    "dataset.head()"
   ]
  },
  {
   "cell_type": "code",
   "execution_count": 18,
   "metadata": {},
   "outputs": [
    {
     "data": {
      "text/html": [
       "<div>\n",
       "<style>\n",
       "    .dataframe thead tr:only-child th {\n",
       "        text-align: right;\n",
       "    }\n",
       "\n",
       "    .dataframe thead th {\n",
       "        text-align: left;\n",
       "    }\n",
       "\n",
       "    .dataframe tbody tr th {\n",
       "        vertical-align: top;\n",
       "    }\n",
       "</style>\n",
       "<table border=\"1\" class=\"dataframe\">\n",
       "  <thead>\n",
       "    <tr style=\"text-align: right;\">\n",
       "      <th></th>\n",
       "      <th>PATIENT</th>\n",
       "      <th>CODE_B</th>\n",
       "      <th>CODE_A</th>\n",
       "      <th>TIME_A</th>\n",
       "      <th>TIME_B</th>\n",
       "      <th>RADIUS</th>\n",
       "      <th>TEXTURE</th>\n",
       "      <th>PERIMETR</th>\n",
       "      <th>AREA</th>\n",
       "      <th>SMOOTH</th>\n",
       "      <th>...</th>\n",
       "      <th>WSMOOTH</th>\n",
       "      <th>WCOMPCT</th>\n",
       "      <th>WCONCV</th>\n",
       "      <th>WCONV_PT</th>\n",
       "      <th>WSYMM</th>\n",
       "      <th>WFRACT_D</th>\n",
       "      <th>SIZE</th>\n",
       "      <th>NODE_ALL</th>\n",
       "      <th>CHEMO</th>\n",
       "      <th>HORMO</th>\n",
       "    </tr>\n",
       "  </thead>\n",
       "  <tbody>\n",
       "    <tr>\n",
       "      <th>0</th>\n",
       "      <td>1</td>\n",
       "      <td>0</td>\n",
       "      <td>0</td>\n",
       "      <td>55</td>\n",
       "      <td>55</td>\n",
       "      <td>18.02</td>\n",
       "      <td>27.60</td>\n",
       "      <td>117.50</td>\n",
       "      <td>1013.0</td>\n",
       "      <td>0.09489</td>\n",
       "      <td>...</td>\n",
       "      <td>0.1195</td>\n",
       "      <td>0.1926</td>\n",
       "      <td>0.3140</td>\n",
       "      <td>0.11700</td>\n",
       "      <td>0.2677</td>\n",
       "      <td>0.08113</td>\n",
       "      <td>5.0</td>\n",
       "      <td>5</td>\n",
       "      <td>1</td>\n",
       "      <td>1</td>\n",
       "    </tr>\n",
       "    <tr>\n",
       "      <th>1</th>\n",
       "      <td>2</td>\n",
       "      <td>0</td>\n",
       "      <td>0</td>\n",
       "      <td>29</td>\n",
       "      <td>29</td>\n",
       "      <td>14.09</td>\n",
       "      <td>27.70</td>\n",
       "      <td>96.01</td>\n",
       "      <td>604.7</td>\n",
       "      <td>0.11860</td>\n",
       "      <td>...</td>\n",
       "      <td>0.1555</td>\n",
       "      <td>0.5988</td>\n",
       "      <td>0.7392</td>\n",
       "      <td>0.18710</td>\n",
       "      <td>0.2497</td>\n",
       "      <td>0.11830</td>\n",
       "      <td>0.8</td>\n",
       "      <td>0</td>\n",
       "      <td>0</td>\n",
       "      <td>0</td>\n",
       "    </tr>\n",
       "    <tr>\n",
       "      <th>2</th>\n",
       "      <td>3</td>\n",
       "      <td>0</td>\n",
       "      <td>0</td>\n",
       "      <td>53</td>\n",
       "      <td>53</td>\n",
       "      <td>13.32</td>\n",
       "      <td>27.25</td>\n",
       "      <td>85.99</td>\n",
       "      <td>551.7</td>\n",
       "      <td>0.08446</td>\n",
       "      <td>...</td>\n",
       "      <td>0.1197</td>\n",
       "      <td>0.3018</td>\n",
       "      <td>0.3039</td>\n",
       "      <td>0.11670</td>\n",
       "      <td>0.2859</td>\n",
       "      <td>0.08557</td>\n",
       "      <td>1.3</td>\n",
       "      <td>0</td>\n",
       "      <td>0</td>\n",
       "      <td>0</td>\n",
       "    </tr>\n",
       "    <tr>\n",
       "      <th>3</th>\n",
       "      <td>4</td>\n",
       "      <td>0</td>\n",
       "      <td>1</td>\n",
       "      <td>12</td>\n",
       "      <td>68</td>\n",
       "      <td>15.11</td>\n",
       "      <td>32.79</td>\n",
       "      <td>99.36</td>\n",
       "      <td>712.3</td>\n",
       "      <td>0.09656</td>\n",
       "      <td>...</td>\n",
       "      <td>0.1408</td>\n",
       "      <td>0.4667</td>\n",
       "      <td>0.6024</td>\n",
       "      <td>0.12780</td>\n",
       "      <td>0.2773</td>\n",
       "      <td>0.10450</td>\n",
       "      <td>2.5</td>\n",
       "      <td>0</td>\n",
       "      <td>0</td>\n",
       "      <td>0</td>\n",
       "    </tr>\n",
       "    <tr>\n",
       "      <th>4</th>\n",
       "      <td>5</td>\n",
       "      <td>0</td>\n",
       "      <td>0</td>\n",
       "      <td>56</td>\n",
       "      <td>56</td>\n",
       "      <td>13.99</td>\n",
       "      <td>36.52</td>\n",
       "      <td>92.27</td>\n",
       "      <td>598.3</td>\n",
       "      <td>0.11780</td>\n",
       "      <td>...</td>\n",
       "      <td>0.1613</td>\n",
       "      <td>0.2520</td>\n",
       "      <td>0.3125</td>\n",
       "      <td>0.09596</td>\n",
       "      <td>0.2154</td>\n",
       "      <td>0.07969</td>\n",
       "      <td>0.8</td>\n",
       "      <td>1</td>\n",
       "      <td>0</td>\n",
       "      <td>1</td>\n",
       "    </tr>\n",
       "  </tbody>\n",
       "</table>\n",
       "<p>5 rows × 39 columns</p>\n",
       "</div>"
      ],
      "text/plain": [
       "   PATIENT  CODE_B  CODE_A  TIME_A  TIME_B  RADIUS  TEXTURE  PERIMETR    AREA  \\\n",
       "0        1       0       0      55      55   18.02    27.60    117.50  1013.0   \n",
       "1        2       0       0      29      29   14.09    27.70     96.01   604.7   \n",
       "2        3       0       0      53      53   13.32    27.25     85.99   551.7   \n",
       "3        4       0       1      12      68   15.11    32.79     99.36   712.3   \n",
       "4        5       0       0      56      56   13.99    36.52     92.27   598.3   \n",
       "\n",
       "    SMOOTH  ...    WSMOOTH  WCOMPCT  WCONCV  WCONV_PT   WSYMM  WFRACT_D  SIZE  \\\n",
       "0  0.09489  ...     0.1195   0.1926  0.3140   0.11700  0.2677   0.08113   5.0   \n",
       "1  0.11860  ...     0.1555   0.5988  0.7392   0.18710  0.2497   0.11830   0.8   \n",
       "2  0.08446  ...     0.1197   0.3018  0.3039   0.11670  0.2859   0.08557   1.3   \n",
       "3  0.09656  ...     0.1408   0.4667  0.6024   0.12780  0.2773   0.10450   2.5   \n",
       "4  0.11780  ...     0.1613   0.2520  0.3125   0.09596  0.2154   0.07969   0.8   \n",
       "\n",
       "   NODE_ALL  CHEMO  HORMO  \n",
       "0         5      1      1  \n",
       "1         0      0      0  \n",
       "2         0      0      0  \n",
       "3         0      0      0  \n",
       "4         1      0      1  \n",
       "\n",
       "[5 rows x 39 columns]"
      ]
     },
     "execution_count": 18,
     "metadata": {},
     "output_type": "execute_result"
    }
   ],
   "source": [
    "data = dataset[['PATIENT','CODE_B', 'CODE_A', 'TIME_A', 'TIME_B', 'RADIUS', 'TEXTURE',\n",
    "       'PERIMETR', 'AREA', 'SMOOTH', 'COMPCT', 'CONCV', 'CONV_PT', 'SYMM',\n",
    "       'FRACT_D', 'SRADIUS', 'STEXTURE', 'SPERIMET', 'SAREA', 'SSMOOTH',\n",
    "       'SCOMPCT', 'SCONCV', 'SCONV_PT', 'SSYMM', 'SFRACT_D', 'WRADIUS',\n",
    "       'WTEXTURE', 'WPERIMET', 'WAREA', 'WSMOOTH', 'WCOMPCT', 'WCONCV',\n",
    "       'WCONV_PT', 'WSYMM', 'WFRACT_D', 'SIZE', 'NODE_ALL', 'CHEMO', 'HORMO']]\n",
    "data.head()"
   ]
  },
  {
   "cell_type": "code",
   "execution_count": 19,
   "metadata": {},
   "outputs": [
    {
     "data": {
      "text/html": [
       "<div>\n",
       "<style>\n",
       "    .dataframe thead tr:only-child th {\n",
       "        text-align: right;\n",
       "    }\n",
       "\n",
       "    .dataframe thead th {\n",
       "        text-align: left;\n",
       "    }\n",
       "\n",
       "    .dataframe tbody tr th {\n",
       "        vertical-align: top;\n",
       "    }\n",
       "</style>\n",
       "<table border=\"1\" class=\"dataframe\">\n",
       "  <thead>\n",
       "    <tr style=\"text-align: right;\">\n",
       "      <th></th>\n",
       "      <th>CODE_A</th>\n",
       "      <th>TIME_A</th>\n",
       "      <th>TIME_B</th>\n",
       "      <th>RADIUS</th>\n",
       "      <th>TEXTURE</th>\n",
       "      <th>PERIMETR</th>\n",
       "      <th>AREA</th>\n",
       "      <th>SMOOTH</th>\n",
       "      <th>COMPCT</th>\n",
       "      <th>CONCV</th>\n",
       "      <th>...</th>\n",
       "      <th>WSMOOTH</th>\n",
       "      <th>WCOMPCT</th>\n",
       "      <th>WCONCV</th>\n",
       "      <th>WCONV_PT</th>\n",
       "      <th>WSYMM</th>\n",
       "      <th>WFRACT_D</th>\n",
       "      <th>SIZE</th>\n",
       "      <th>NODE_ALL</th>\n",
       "      <th>CHEMO</th>\n",
       "      <th>HORMO</th>\n",
       "    </tr>\n",
       "  </thead>\n",
       "  <tbody>\n",
       "    <tr>\n",
       "      <th>0</th>\n",
       "      <td>0</td>\n",
       "      <td>55</td>\n",
       "      <td>55</td>\n",
       "      <td>18.02</td>\n",
       "      <td>27.60</td>\n",
       "      <td>117.50</td>\n",
       "      <td>1013.0</td>\n",
       "      <td>0.09489</td>\n",
       "      <td>0.10360</td>\n",
       "      <td>0.10860</td>\n",
       "      <td>...</td>\n",
       "      <td>0.1195</td>\n",
       "      <td>0.1926</td>\n",
       "      <td>0.3140</td>\n",
       "      <td>0.11700</td>\n",
       "      <td>0.2677</td>\n",
       "      <td>0.08113</td>\n",
       "      <td>5.0</td>\n",
       "      <td>5</td>\n",
       "      <td>1</td>\n",
       "      <td>1</td>\n",
       "    </tr>\n",
       "    <tr>\n",
       "      <th>1</th>\n",
       "      <td>0</td>\n",
       "      <td>29</td>\n",
       "      <td>29</td>\n",
       "      <td>14.09</td>\n",
       "      <td>27.70</td>\n",
       "      <td>96.01</td>\n",
       "      <td>604.7</td>\n",
       "      <td>0.11860</td>\n",
       "      <td>0.25530</td>\n",
       "      <td>0.24860</td>\n",
       "      <td>...</td>\n",
       "      <td>0.1555</td>\n",
       "      <td>0.5988</td>\n",
       "      <td>0.7392</td>\n",
       "      <td>0.18710</td>\n",
       "      <td>0.2497</td>\n",
       "      <td>0.11830</td>\n",
       "      <td>0.8</td>\n",
       "      <td>0</td>\n",
       "      <td>0</td>\n",
       "      <td>0</td>\n",
       "    </tr>\n",
       "    <tr>\n",
       "      <th>2</th>\n",
       "      <td>0</td>\n",
       "      <td>53</td>\n",
       "      <td>53</td>\n",
       "      <td>13.32</td>\n",
       "      <td>27.25</td>\n",
       "      <td>85.99</td>\n",
       "      <td>551.7</td>\n",
       "      <td>0.08446</td>\n",
       "      <td>0.07879</td>\n",
       "      <td>0.05168</td>\n",
       "      <td>...</td>\n",
       "      <td>0.1197</td>\n",
       "      <td>0.3018</td>\n",
       "      <td>0.3039</td>\n",
       "      <td>0.11670</td>\n",
       "      <td>0.2859</td>\n",
       "      <td>0.08557</td>\n",
       "      <td>1.3</td>\n",
       "      <td>0</td>\n",
       "      <td>0</td>\n",
       "      <td>0</td>\n",
       "    </tr>\n",
       "    <tr>\n",
       "      <th>3</th>\n",
       "      <td>1</td>\n",
       "      <td>12</td>\n",
       "      <td>68</td>\n",
       "      <td>15.11</td>\n",
       "      <td>32.79</td>\n",
       "      <td>99.36</td>\n",
       "      <td>712.3</td>\n",
       "      <td>0.09656</td>\n",
       "      <td>0.12230</td>\n",
       "      <td>0.13380</td>\n",
       "      <td>...</td>\n",
       "      <td>0.1408</td>\n",
       "      <td>0.4667</td>\n",
       "      <td>0.6024</td>\n",
       "      <td>0.12780</td>\n",
       "      <td>0.2773</td>\n",
       "      <td>0.10450</td>\n",
       "      <td>2.5</td>\n",
       "      <td>0</td>\n",
       "      <td>0</td>\n",
       "      <td>0</td>\n",
       "    </tr>\n",
       "    <tr>\n",
       "      <th>4</th>\n",
       "      <td>0</td>\n",
       "      <td>56</td>\n",
       "      <td>56</td>\n",
       "      <td>13.99</td>\n",
       "      <td>36.52</td>\n",
       "      <td>92.27</td>\n",
       "      <td>598.3</td>\n",
       "      <td>0.11780</td>\n",
       "      <td>0.14060</td>\n",
       "      <td>0.10720</td>\n",
       "      <td>...</td>\n",
       "      <td>0.1613</td>\n",
       "      <td>0.2520</td>\n",
       "      <td>0.3125</td>\n",
       "      <td>0.09596</td>\n",
       "      <td>0.2154</td>\n",
       "      <td>0.07969</td>\n",
       "      <td>0.8</td>\n",
       "      <td>1</td>\n",
       "      <td>0</td>\n",
       "      <td>1</td>\n",
       "    </tr>\n",
       "  </tbody>\n",
       "</table>\n",
       "<p>5 rows × 37 columns</p>\n",
       "</div>"
      ],
      "text/plain": [
       "   CODE_A  TIME_A  TIME_B  RADIUS  TEXTURE  PERIMETR    AREA   SMOOTH  \\\n",
       "0       0      55      55   18.02    27.60    117.50  1013.0  0.09489   \n",
       "1       0      29      29   14.09    27.70     96.01   604.7  0.11860   \n",
       "2       0      53      53   13.32    27.25     85.99   551.7  0.08446   \n",
       "3       1      12      68   15.11    32.79     99.36   712.3  0.09656   \n",
       "4       0      56      56   13.99    36.52     92.27   598.3  0.11780   \n",
       "\n",
       "    COMPCT    CONCV  ...    WSMOOTH  WCOMPCT  WCONCV  WCONV_PT   WSYMM  \\\n",
       "0  0.10360  0.10860  ...     0.1195   0.1926  0.3140   0.11700  0.2677   \n",
       "1  0.25530  0.24860  ...     0.1555   0.5988  0.7392   0.18710  0.2497   \n",
       "2  0.07879  0.05168  ...     0.1197   0.3018  0.3039   0.11670  0.2859   \n",
       "3  0.12230  0.13380  ...     0.1408   0.4667  0.6024   0.12780  0.2773   \n",
       "4  0.14060  0.10720  ...     0.1613   0.2520  0.3125   0.09596  0.2154   \n",
       "\n",
       "   WFRACT_D  SIZE  NODE_ALL  CHEMO  HORMO  \n",
       "0   0.08113   5.0         5      1      1  \n",
       "1   0.11830   0.8         0      0      0  \n",
       "2   0.08557   1.3         0      0      0  \n",
       "3   0.10450   2.5         0      0      0  \n",
       "4   0.07969   0.8         1      0      1  \n",
       "\n",
       "[5 rows x 37 columns]"
      ]
     },
     "execution_count": 19,
     "metadata": {},
     "output_type": "execute_result"
    }
   ],
   "source": [
    "## X are the varibles used for predictions Y is the target\n",
    "X = data.drop(['PATIENT','CODE_B'],axis=1)\n",
    "Y = data['CODE_B']\n",
    "X.head()"
   ]
  },
  {
   "cell_type": "code",
   "execution_count": 20,
   "metadata": {},
   "outputs": [
    {
     "data": {
      "text/plain": [
       "PATIENT     0\n",
       "CODE_B      0\n",
       "CODE_A      0\n",
       "TIME_A      0\n",
       "TIME_B      0\n",
       "RADIUS      0\n",
       "TEXTURE     0\n",
       "PERIMETR    0\n",
       "AREA        0\n",
       "SMOOTH      0\n",
       "COMPCT      0\n",
       "CONCV       0\n",
       "CONV_PT     0\n",
       "SYMM        0\n",
       "FRACT_D     0\n",
       "SRADIUS     0\n",
       "STEXTURE    0\n",
       "SPERIMET    0\n",
       "SAREA       0\n",
       "SSMOOTH     0\n",
       "SCOMPCT     0\n",
       "SCONCV      0\n",
       "SCONV_PT    0\n",
       "SSYMM       0\n",
       "SFRACT_D    0\n",
       "WRADIUS     0\n",
       "WTEXTURE    0\n",
       "WPERIMET    0\n",
       "WAREA       0\n",
       "WSMOOTH     0\n",
       "WCOMPCT     0\n",
       "WCONCV      0\n",
       "WCONV_PT    0\n",
       "WSYMM       0\n",
       "WFRACT_D    0\n",
       "SIZE        0\n",
       "NODE_ALL    0\n",
       "CHEMO       0\n",
       "HORMO       0\n",
       "dtype: int64"
      ]
     },
     "execution_count": 20,
     "metadata": {},
     "output_type": "execute_result"
    }
   ],
   "source": [
    "data.isnull().sum()"
   ]
  },
  {
   "cell_type": "code",
   "execution_count": 21,
   "metadata": {},
   "outputs": [
    {
     "data": {
      "text/plain": [
       "0"
      ]
     },
     "execution_count": 21,
     "metadata": {},
     "output_type": "execute_result"
    }
   ],
   "source": [
    "data.duplicated().sum()"
   ]
  },
  {
   "cell_type": "code",
   "execution_count": 22,
   "metadata": {},
   "outputs": [
    {
     "name": "stdout",
     "output_type": "stream",
     "text": [
      "<class 'pandas.core.frame.DataFrame'>\n",
      "RangeIndex: 253 entries, 0 to 252\n",
      "Data columns (total 39 columns):\n",
      "PATIENT     253 non-null int64\n",
      "CODE_B      253 non-null int64\n",
      "CODE_A      253 non-null int64\n",
      "TIME_A      253 non-null int64\n",
      "TIME_B      253 non-null int64\n",
      "RADIUS      253 non-null float64\n",
      "TEXTURE     253 non-null float64\n",
      "PERIMETR    253 non-null float64\n",
      "AREA        253 non-null float64\n",
      "SMOOTH      253 non-null float64\n",
      "COMPCT      253 non-null float64\n",
      "CONCV       253 non-null float64\n",
      "CONV_PT     253 non-null float64\n",
      "SYMM        253 non-null float64\n",
      "FRACT_D     253 non-null float64\n",
      "SRADIUS     253 non-null float64\n",
      "STEXTURE    253 non-null float64\n",
      "SPERIMET    253 non-null float64\n",
      "SAREA       253 non-null float64\n",
      "SSMOOTH     253 non-null float64\n",
      "SCOMPCT     253 non-null float64\n",
      "SCONCV      253 non-null float64\n",
      "SCONV_PT    253 non-null float64\n",
      "SSYMM       253 non-null float64\n",
      "SFRACT_D    253 non-null float64\n",
      "WRADIUS     253 non-null float64\n",
      "WTEXTURE    253 non-null float64\n",
      "WPERIMET    253 non-null float64\n",
      "WAREA       253 non-null float64\n",
      "WSMOOTH     253 non-null float64\n",
      "WCOMPCT     253 non-null float64\n",
      "WCONCV      253 non-null float64\n",
      "WCONV_PT    253 non-null float64\n",
      "WSYMM       253 non-null float64\n",
      "WFRACT_D    253 non-null float64\n",
      "SIZE        253 non-null float64\n",
      "NODE_ALL    253 non-null int64\n",
      "CHEMO       253 non-null int64\n",
      "HORMO       253 non-null int64\n",
      "dtypes: float64(31), int64(8)\n",
      "memory usage: 77.2 KB\n"
     ]
    }
   ],
   "source": [
    "data.info()"
   ]
  },
  {
   "cell_type": "code",
   "execution_count": 23,
   "metadata": {
    "collapsed": true
   },
   "outputs": [],
   "source": [
    "## Fitting the data in random forest algorithm by splitting it into training and testing dataset\n",
    "X_train, X_test, Y_train, Y_test = train_test_split(X, Y, test_size=0.2, random_state=np.random)\n"
   ]
  },
  {
   "cell_type": "code",
   "execution_count": 24,
   "metadata": {},
   "outputs": [
    {
     "name": "stdout",
     "output_type": "stream",
     "text": [
      "Warning: xgboost.XGBClassifier is not available and will not be used by TPOT.\n"
     ]
    },
    {
     "name": "stderr",
     "output_type": "stream",
     "text": [
      "                                                                              \r"
     ]
    },
    {
     "name": "stdout",
     "output_type": "stream",
     "text": [
      "Generation 1 - Current best internal CV score: 0.9213414634146341\n"
     ]
    },
    {
     "name": "stderr",
     "output_type": "stream",
     "text": [
      "                                                                              \r"
     ]
    },
    {
     "name": "stdout",
     "output_type": "stream",
     "text": [
      "\n"
     ]
    },
    {
     "name": "stderr",
     "output_type": "stream",
     "text": [
      "                                                                              \r"
     ]
    },
    {
     "name": "stdout",
     "output_type": "stream",
     "text": [
      "\n",
      "TPOT closed prematurely. Will use the current best pipeline.\n"
     ]
    },
    {
     "name": "stderr",
     "output_type": "stream",
     "text": [
      "                                                                              \r"
     ]
    },
    {
     "name": "stdout",
     "output_type": "stream",
     "text": [
      "\n",
      "Best pipeline: GradientBoostingClassifier(input_matrix, learning_rate=0.5, max_depth=7, max_features=0.95, min_samples_leaf=17, min_samples_split=14, n_estimators=100, subsample=0.7)\n",
      "0.921568627451\n"
     ]
    }
   ],
   "source": [
    "tpot = TPOTClassifier(generations=10, population_size=50, verbosity=2)\n",
    "tpot.fit(X_train, Y_train)\n",
    "print(tpot.score(X_test, Y_test))"
   ]
  },
  {
   "cell_type": "code",
   "execution_count": 25,
   "metadata": {
    "collapsed": true
   },
   "outputs": [],
   "source": [
    "from sklearn.ensemble import ExtraTreesClassifier\n",
    "from sklearn.model_selection import train_test_split"
   ]
  },
  {
   "cell_type": "code",
   "execution_count": 26,
   "metadata": {},
   "outputs": [
    {
     "data": {
      "text/plain": [
       "ExtraTreesClassifier(bootstrap=False, class_weight=None, criterion='gini',\n",
       "           max_depth=None, max_features='auto', max_leaf_nodes=None,\n",
       "           min_impurity_decrease=0.0, min_impurity_split=None,\n",
       "           min_samples_leaf=1, min_samples_split=2,\n",
       "           min_weight_fraction_leaf=0.0, n_estimators=10, n_jobs=1,\n",
       "           oob_score=False, random_state=None, verbose=0, warm_start=False)"
      ]
     },
     "execution_count": 26,
     "metadata": {},
     "output_type": "execute_result"
    }
   ],
   "source": [
    "etr = ExtraTreesClassifier()\n",
    "X_train, X_test, Y_train, Y_test = train_test_split(X, Y, test_size=0.2, random_state=np.random)\n",
    "etr.fit(X_train,Y_train)"
   ]
  },
  {
   "cell_type": "code",
   "execution_count": 27,
   "metadata": {},
   "outputs": [
    {
     "name": "stdout",
     "output_type": "stream",
     "text": [
      "Accuracy on the training subset: 1.000\n",
      "Accuracy on the test subset: 0.843\n"
     ]
    }
   ],
   "source": [
    "print('Accuracy on the training subset: {:.3f}'.format(etr.score(X_train, Y_train)))\n",
    "print('Accuracy on the test subset: {:.3f}'.format(etr.score(X_test, Y_test)))"
   ]
  },
  {
   "cell_type": "code",
   "execution_count": 28,
   "metadata": {
    "collapsed": true
   },
   "outputs": [],
   "source": [
    "from sklearn.metrics import confusion_matrix"
   ]
  },
  {
   "cell_type": "code",
   "execution_count": 29,
   "metadata": {
    "collapsed": true
   },
   "outputs": [],
   "source": [
    "predictions = etr.predict(X_test)"
   ]
  },
  {
   "cell_type": "code",
   "execution_count": 30,
   "metadata": {},
   "outputs": [
    {
     "name": "stdout",
     "output_type": "stream",
     "text": [
      "[[37  0]\n",
      " [ 8  6]]\n"
     ]
    }
   ],
   "source": [
    "print(confusion_matrix(Y_test,predictions))"
   ]
  },
  {
   "cell_type": "code",
   "execution_count": 31,
   "metadata": {},
   "outputs": [
    {
     "data": {
      "text/plain": [
       "125    0\n",
       "13     0\n",
       "0      0\n",
       "147    1\n",
       "247    0\n",
       "66     1\n",
       "220    0\n",
       "200    0\n",
       "46     1\n",
       "2      0\n",
       "89     0\n",
       "146    0\n",
       "101    0\n",
       "127    0\n",
       "144    0\n",
       "243    0\n",
       "109    0\n",
       "201    1\n",
       "191    0\n",
       "62     0\n",
       "187    0\n",
       "122    1\n",
       "178    1\n",
       "217    0\n",
       "137    0\n",
       "145    0\n",
       "106    0\n",
       "205    0\n",
       "142    0\n",
       "72     1\n",
       "238    0\n",
       "80     0\n",
       "166    0\n",
       "185    0\n",
       "156    1\n",
       "15     0\n",
       "167    1\n",
       "35     0\n",
       "140    1\n",
       "169    1\n",
       "117    0\n",
       "42     0\n",
       "51     1\n",
       "58     1\n",
       "190    0\n",
       "244    0\n",
       "118    0\n",
       "59     0\n",
       "192    0\n",
       "182    1\n",
       "172    0\n",
       "Name: CODE_B, dtype: int64"
      ]
     },
     "execution_count": 31,
     "metadata": {},
     "output_type": "execute_result"
    }
   ],
   "source": [
    "Y_test"
   ]
  },
  {
   "cell_type": "code",
   "execution_count": 32,
   "metadata": {},
   "outputs": [
    {
     "data": {
      "text/plain": [
       "array([0, 0, 0, 0, 0, 1, 0, 0, 0, 0, 0, 0, 0, 0, 0, 0, 0, 0, 0, 0, 0, 0, 1,\n",
       "       0, 0, 0, 0, 0, 0, 0, 0, 0, 0, 0, 1, 0, 1, 0, 0, 0, 0, 0, 0, 1, 0, 0,\n",
       "       0, 0, 0, 1, 0], dtype=int64)"
      ]
     },
     "execution_count": 32,
     "metadata": {},
     "output_type": "execute_result"
    }
   ],
   "source": [
    "predictions"
   ]
  },
  {
   "cell_type": "markdown",
   "metadata": {},
   "source": [
    "**Scaling data**"
   ]
  },
  {
   "cell_type": "code",
   "execution_count": 33,
   "metadata": {},
   "outputs": [
    {
     "name": "stdout",
     "output_type": "stream",
     "text": [
      "Minimum per feature\n",
      "CODE_A      0.0\n",
      "TIME_A      0.0\n",
      "TIME_B      0.0\n",
      "RADIUS      0.0\n",
      "TEXTURE     0.0\n",
      "PERIMETR    0.0\n",
      "AREA        0.0\n",
      "SMOOTH      0.0\n",
      "COMPCT      0.0\n",
      "CONCV       0.0\n",
      "CONV_PT     0.0\n",
      "SYMM        0.0\n",
      "FRACT_D     0.0\n",
      "SRADIUS     0.0\n",
      "STEXTURE    0.0\n",
      "SPERIMET    0.0\n",
      "SAREA       0.0\n",
      "SSMOOTH     0.0\n",
      "SCOMPCT     0.0\n",
      "SCONCV      0.0\n",
      "SCONV_PT    0.0\n",
      "SSYMM       0.0\n",
      "SFRACT_D    0.0\n",
      "WRADIUS     0.0\n",
      "WTEXTURE    0.0\n",
      "WPERIMET    0.0\n",
      "WAREA       0.0\n",
      "WSMOOTH     0.0\n",
      "WCOMPCT     0.0\n",
      "WCONCV      0.0\n",
      "WCONV_PT    0.0\n",
      "WSYMM       0.0\n",
      "WFRACT_D    0.0\n",
      "SIZE        0.0\n",
      "NODE_ALL    0.0\n",
      "CHEMO       0.0\n",
      "HORMO       0.0\n",
      "dtype: float64\n",
      "Maximum per feature\n",
      "CODE_A      1.0\n",
      "TIME_A      1.0\n",
      "TIME_B      1.0\n",
      "RADIUS      1.0\n",
      "TEXTURE     1.0\n",
      "PERIMETR    1.0\n",
      "AREA        1.0\n",
      "SMOOTH      1.0\n",
      "COMPCT      1.0\n",
      "CONCV       1.0\n",
      "CONV_PT     1.0\n",
      "SYMM        1.0\n",
      "FRACT_D     1.0\n",
      "SRADIUS     1.0\n",
      "STEXTURE    1.0\n",
      "SPERIMET    1.0\n",
      "SAREA       1.0\n",
      "SSMOOTH     1.0\n",
      "SCOMPCT     1.0\n",
      "SCONCV      1.0\n",
      "SCONV_PT    1.0\n",
      "SSYMM       1.0\n",
      "SFRACT_D    1.0\n",
      "WRADIUS     1.0\n",
      "WTEXTURE    1.0\n",
      "WPERIMET    1.0\n",
      "WAREA       1.0\n",
      "WSMOOTH     1.0\n",
      "WCOMPCT     1.0\n",
      "WCONCV      1.0\n",
      "WCONV_PT    1.0\n",
      "WSYMM       1.0\n",
      "WFRACT_D    1.0\n",
      "SIZE        1.0\n",
      "NODE_ALL    1.0\n",
      "CHEMO       1.0\n",
      "HORMO       1.0\n",
      "dtype: float64\n"
     ]
    }
   ],
   "source": [
    "#Finding the minimum values for each feature\n",
    "min_train = X_train.min(axis=0)\n",
    "#Finding the range of each feature\n",
    "range_train = (X_train - min_train).max(axis=0)\n",
    "#Scaling the features between the the range 0 to 1 \n",
    "X_train_scaled = (X_train - min_train)/range_train\n",
    "\n",
    "print('Minimum per feature\\n{}'.format(X_train_scaled.min(axis=0)))\n",
    "print('Maximum per feature\\n{}'.format(X_train_scaled.max(axis=0)))"
   ]
  },
  {
   "cell_type": "code",
   "execution_count": 34,
   "metadata": {
    "collapsed": true
   },
   "outputs": [],
   "source": [
    "X_test_scaled = (X_test - min_train)/range_train"
   ]
  },
  {
   "cell_type": "markdown",
   "metadata": {},
   "source": [
    "### Extremely Randomized Tree (Extra) Tree Classifier:\n",
    "\n",
    "This class implements a meta estimator that fits a number of randomized decision trees (a.k.a. extra-trees) on various sub-samples of the dataset and use averaging to improve the predictive accuracy and control over-fitting. More about [Extra tree Classifier](http://scikit-learn.org/stable/modules/generated/sklearn.ensemble.ExtraTreesClassifier.html)"
   ]
  },
  {
   "cell_type": "code",
   "execution_count": 35,
   "metadata": {},
   "outputs": [
    {
     "data": {
      "text/plain": [
       "ExtraTreesClassifier(bootstrap=False, class_weight=None, criterion='gini',\n",
       "           max_depth=None, max_features='auto', max_leaf_nodes=None,\n",
       "           min_impurity_decrease=0.0, min_impurity_split=None,\n",
       "           min_samples_leaf=1, min_samples_split=2,\n",
       "           min_weight_fraction_leaf=0.0, n_estimators=10, n_jobs=1,\n",
       "           oob_score=False, random_state=None, verbose=0, warm_start=False)"
      ]
     },
     "execution_count": 35,
     "metadata": {},
     "output_type": "execute_result"
    }
   ],
   "source": [
    "etr1 = ExtraTreesClassifier()\n",
    "etr1.fit(X_train_scaled,Y_train)"
   ]
  },
  {
   "cell_type": "code",
   "execution_count": 36,
   "metadata": {},
   "outputs": [
    {
     "name": "stdout",
     "output_type": "stream",
     "text": [
      "The accuracy on the training subset: 1.000\n",
      "The accuracy on the test subset: 0.843\n"
     ]
    }
   ],
   "source": [
    "print('The accuracy on the training subset: {:.3f}'.format(etr1.score(X_train_scaled, Y_train)))\n",
    "print('The accuracy on the test subset: {:.3f}'.format(etr1.score(X_test_scaled, Y_test)))"
   ]
  },
  {
   "cell_type": "code",
   "execution_count": 37,
   "metadata": {
    "collapsed": true
   },
   "outputs": [],
   "source": [
    "s_prediction = etr1.predict(X_test_scaled)"
   ]
  },
  {
   "cell_type": "code",
   "execution_count": 38,
   "metadata": {},
   "outputs": [
    {
     "name": "stdout",
     "output_type": "stream",
     "text": [
      "[[37  0]\n",
      " [ 8  6]]\n"
     ]
    }
   ],
   "source": [
    "print(confusion_matrix(Y_test,s_prediction))"
   ]
  },
  {
   "cell_type": "markdown",
   "metadata": {},
   "source": [
    "Clearly, we're facing overfitting problem. To avoid this, we perform feature engineering to select only important features that contribute towards prediction. More about [RFE](http://scikit-learn.org/stable/modules/generated/sklearn.feature_selection.RFE.html)"
   ]
  },
  {
   "cell_type": "code",
   "execution_count": 39,
   "metadata": {
    "collapsed": true
   },
   "outputs": [],
   "source": [
    "from sklearn.feature_selection import RFE"
   ]
  },
  {
   "cell_type": "code",
   "execution_count": 40,
   "metadata": {},
   "outputs": [
    {
     "data": {
      "text/plain": [
       "RFE(estimator=ExtraTreesClassifier(bootstrap=False, class_weight=None, criterion='gini',\n",
       "           max_depth=None, max_features='auto', max_leaf_nodes=None,\n",
       "           min_impurity_decrease=0.0, min_impurity_split=None,\n",
       "           min_samples_leaf=1, min_samples_split=2,\n",
       "           min_weight_fraction_leaf=0.0, n_estimators=10, n_jobs=1,\n",
       "           oob_score=False, random_state=None, verbose=0, warm_start=False),\n",
       "  n_features_to_select=10, step=1, verbose=0)"
      ]
     },
     "execution_count": 40,
     "metadata": {},
     "output_type": "execute_result"
    }
   ],
   "source": [
    "rfe = RFE(etr, n_features_to_select=10)\n",
    "rfe.fit(X,Y)"
   ]
  },
  {
   "cell_type": "code",
   "execution_count": 41,
   "metadata": {},
   "outputs": [
    {
     "data": {
      "text/plain": [
       "array([ 1,  1,  1, 18,  1, 11,  7, 28, 24,  9,  8,  5, 14,  6, 26, 10,  2,\n",
       "       15, 16, 22, 20, 12, 27,  3,  1,  1,  1,  4, 23, 17, 19, 21,  1,  1,\n",
       "       13,  1, 25])"
      ]
     },
     "execution_count": 41,
     "metadata": {},
     "output_type": "execute_result"
    }
   ],
   "source": [
    "rfe.ranking_"
   ]
  },
  {
   "cell_type": "code",
   "execution_count": 42,
   "metadata": {},
   "outputs": [
    {
     "data": {
      "text/plain": [
       "array([ True,  True,  True, False,  True, False, False, False, False,\n",
       "       False, False, False, False, False, False, False, False, False,\n",
       "       False, False, False, False, False, False,  True,  True,  True,\n",
       "       False, False, False, False, False,  True,  True, False,  True, False], dtype=bool)"
      ]
     },
     "execution_count": 42,
     "metadata": {},
     "output_type": "execute_result"
    }
   ],
   "source": [
    "rfe.support_"
   ]
  },
  {
   "cell_type": "markdown",
   "metadata": {},
   "source": [
    "### GridSearch:"
   ]
  },
  {
   "cell_type": "code",
   "execution_count": 43,
   "metadata": {
    "collapsed": true
   },
   "outputs": [],
   "source": [
    "param_grid = {'max_features': ['auto', 'sqrt', 'log2'], \n",
    "              'criterion': ['gini','entropy'], 'n_estimators':[1,5,10,15,20] } "
   ]
  },
  {
   "cell_type": "code",
   "execution_count": 44,
   "metadata": {
    "collapsed": true
   },
   "outputs": [],
   "source": [
    "from sklearn.model_selection import GridSearchCV"
   ]
  },
  {
   "cell_type": "code",
   "execution_count": 45,
   "metadata": {
    "collapsed": true
   },
   "outputs": [],
   "source": [
    "grid = GridSearchCV(ExtraTreesClassifier(),param_grid,refit=True,verbose=3)"
   ]
  },
  {
   "cell_type": "code",
   "execution_count": 46,
   "metadata": {},
   "outputs": [
    {
     "name": "stdout",
     "output_type": "stream",
     "text": [
      "Fitting 3 folds for each of 30 candidates, totalling 90 fits\n",
      "[CV] criterion=gini, max_features=auto, n_estimators=1 ...............\n",
      "[CV]  criterion=gini, max_features=auto, n_estimators=1, score=0.8970588235294118, total=   0.0s\n"
     ]
    },
    {
     "name": "stderr",
     "output_type": "stream",
     "text": [
      "[Parallel(n_jobs=1)]: Done   1 out of   1 | elapsed:    0.0s remaining:    0.0s\n"
     ]
    },
    {
     "name": "stdout",
     "output_type": "stream",
     "text": [
      "[CV] criterion=gini, max_features=auto, n_estimators=1 ...............\n",
      "[CV]  criterion=gini, max_features=auto, n_estimators=1, score=0.7941176470588235, total=   0.0s\n"
     ]
    },
    {
     "name": "stderr",
     "output_type": "stream",
     "text": [
      "[Parallel(n_jobs=1)]: Done   2 out of   2 | elapsed:    0.0s remaining:    0.0s\n"
     ]
    },
    {
     "name": "stdout",
     "output_type": "stream",
     "text": [
      "[CV] criterion=gini, max_features=auto, n_estimators=1 ...............\n",
      "[CV]  criterion=gini, max_features=auto, n_estimators=1, score=0.8636363636363636, total=   0.0s\n",
      "[CV] criterion=gini, max_features=auto, n_estimators=5 ...............\n",
      "[CV]  criterion=gini, max_features=auto, n_estimators=5, score=0.8823529411764706, total=   0.0s\n",
      "[CV] criterion=gini, max_features=auto, n_estimators=5 ...............\n",
      "[CV]  criterion=gini, max_features=auto, n_estimators=5, score=0.8529411764705882, total=   0.0s\n",
      "[CV] criterion=gini, max_features=auto, n_estimators=5 ...............\n",
      "[CV]  criterion=gini, max_features=auto, n_estimators=5, score=0.8787878787878788, total=   0.0s\n",
      "[CV] criterion=gini, max_features=auto, n_estimators=10 ..............\n",
      "[CV]  criterion=gini, max_features=auto, n_estimators=10, score=0.8676470588235294, total=   0.0s\n",
      "[CV] criterion=gini, max_features=auto, n_estimators=10 ..............\n",
      "[CV]  criterion=gini, max_features=auto, n_estimators=10, score=0.8382352941176471, total=   0.0s\n",
      "[CV] criterion=gini, max_features=auto, n_estimators=10 ..............\n",
      "[CV]  criterion=gini, max_features=auto, n_estimators=10, score=0.9090909090909091, total=   0.0s\n",
      "[CV] criterion=gini, max_features=auto, n_estimators=15 ..............\n",
      "[CV]  criterion=gini, max_features=auto, n_estimators=15, score=0.8529411764705882, total=   0.0s\n",
      "[CV] criterion=gini, max_features=auto, n_estimators=15 ..............\n",
      "[CV]  criterion=gini, max_features=auto, n_estimators=15, score=0.8970588235294118, total=   0.0s\n",
      "[CV] criterion=gini, max_features=auto, n_estimators=15 ..............\n",
      "[CV]  criterion=gini, max_features=auto, n_estimators=15, score=0.9090909090909091, total=   0.0s\n",
      "[CV] criterion=gini, max_features=auto, n_estimators=20 ..............\n",
      "[CV]  criterion=gini, max_features=auto, n_estimators=20, score=0.8529411764705882, total=   0.0s\n",
      "[CV] criterion=gini, max_features=auto, n_estimators=20 ..............\n",
      "[CV]  criterion=gini, max_features=auto, n_estimators=20, score=0.8970588235294118, total=   0.0s\n",
      "[CV] criterion=gini, max_features=auto, n_estimators=20 ..............\n",
      "[CV]  criterion=gini, max_features=auto, n_estimators=20, score=0.9242424242424242, total=   0.0s\n",
      "[CV] criterion=gini, max_features=sqrt, n_estimators=1 ...............\n",
      "[CV]  criterion=gini, max_features=sqrt, n_estimators=1, score=0.8529411764705882, total=   0.0s\n",
      "[CV] criterion=gini, max_features=sqrt, n_estimators=1 ...............\n",
      "[CV]  criterion=gini, max_features=sqrt, n_estimators=1, score=0.8529411764705882, total=   0.0s\n",
      "[CV] criterion=gini, max_features=sqrt, n_estimators=1 ...............\n",
      "[CV]  criterion=gini, max_features=sqrt, n_estimators=1, score=0.8939393939393939, total=   0.0s\n",
      "[CV] criterion=gini, max_features=sqrt, n_estimators=5 ...............\n",
      "[CV]  criterion=gini, max_features=sqrt, n_estimators=5, score=0.8235294117647058, total=   0.0s\n",
      "[CV] criterion=gini, max_features=sqrt, n_estimators=5 ...............\n",
      "[CV]  criterion=gini, max_features=sqrt, n_estimators=5, score=0.8676470588235294, total=   0.0s\n",
      "[CV] criterion=gini, max_features=sqrt, n_estimators=5 ...............\n",
      "[CV]  criterion=gini, max_features=sqrt, n_estimators=5, score=0.8484848484848485, total=   0.0s\n",
      "[CV] criterion=gini, max_features=sqrt, n_estimators=10 ..............\n",
      "[CV]  criterion=gini, max_features=sqrt, n_estimators=10, score=0.8382352941176471, total=   0.0s\n",
      "[CV] criterion=gini, max_features=sqrt, n_estimators=10 ..............\n",
      "[CV]  criterion=gini, max_features=sqrt, n_estimators=10, score=0.8676470588235294, total=   0.0s\n",
      "[CV] criterion=gini, max_features=sqrt, n_estimators=10 ..............\n",
      "[CV]  criterion=gini, max_features=sqrt, n_estimators=10, score=0.9242424242424242, total=   0.0s\n",
      "[CV] criterion=gini, max_features=sqrt, n_estimators=15 ..............\n",
      "[CV]  criterion=gini, max_features=sqrt, n_estimators=15, score=0.8676470588235294, total=   0.0s\n",
      "[CV] criterion=gini, max_features=sqrt, n_estimators=15 ..............\n",
      "[CV]  criterion=gini, max_features=sqrt, n_estimators=15, score=0.8823529411764706, total=   0.0s\n",
      "[CV] criterion=gini, max_features=sqrt, n_estimators=15 ..............\n",
      "[CV]  criterion=gini, max_features=sqrt, n_estimators=15, score=0.9545454545454546, total=   0.0s\n",
      "[CV] criterion=gini, max_features=sqrt, n_estimators=20 ..............\n",
      "[CV]  criterion=gini, max_features=sqrt, n_estimators=20, score=0.8529411764705882, total=   0.0s\n",
      "[CV] criterion=gini, max_features=sqrt, n_estimators=20 ..............\n",
      "[CV]  criterion=gini, max_features=sqrt, n_estimators=20, score=0.8235294117647058, total=   0.0s\n",
      "[CV] criterion=gini, max_features=sqrt, n_estimators=20 ..............\n",
      "[CV]  criterion=gini, max_features=sqrt, n_estimators=20, score=0.8939393939393939, total=   0.0s\n",
      "[CV] criterion=gini, max_features=log2, n_estimators=1 ...............\n",
      "[CV]  criterion=gini, max_features=log2, n_estimators=1, score=0.7794117647058824, total=   0.0s\n",
      "[CV] criterion=gini, max_features=log2, n_estimators=1 ...............\n",
      "[CV]  criterion=gini, max_features=log2, n_estimators=1, score=0.8823529411764706, total=   0.0s\n",
      "[CV] criterion=gini, max_features=log2, n_estimators=1 ...............\n",
      "[CV]  criterion=gini, max_features=log2, n_estimators=1, score=0.803030303030303, total=   0.0s\n",
      "[CV] criterion=gini, max_features=log2, n_estimators=5 ...............\n",
      "[CV]  criterion=gini, max_features=log2, n_estimators=5, score=0.8676470588235294, total=   0.0s\n",
      "[CV] criterion=gini, max_features=log2, n_estimators=5 ...............\n",
      "[CV]  criterion=gini, max_features=log2, n_estimators=5, score=0.8382352941176471, total=   0.0s\n",
      "[CV] criterion=gini, max_features=log2, n_estimators=5 ...............\n",
      "[CV]  criterion=gini, max_features=log2, n_estimators=5, score=0.8939393939393939, total=   0.0s\n",
      "[CV] criterion=gini, max_features=log2, n_estimators=10 ..............\n",
      "[CV]  criterion=gini, max_features=log2, n_estimators=10, score=0.8676470588235294, total=   0.0s\n",
      "[CV] criterion=gini, max_features=log2, n_estimators=10 ..............\n",
      "[CV]  criterion=gini, max_features=log2, n_estimators=10, score=0.8676470588235294, total=   0.0s\n",
      "[CV] criterion=gini, max_features=log2, n_estimators=10 ..............\n",
      "[CV]  criterion=gini, max_features=log2, n_estimators=10, score=0.8636363636363636, total=   0.0s\n",
      "[CV] criterion=gini, max_features=log2, n_estimators=15 ..............\n",
      "[CV]  criterion=gini, max_features=log2, n_estimators=15, score=0.8823529411764706, total=   0.0s\n",
      "[CV] criterion=gini, max_features=log2, n_estimators=15 ..............\n",
      "[CV]  criterion=gini, max_features=log2, n_estimators=15, score=0.8676470588235294, total=   0.0s\n",
      "[CV] criterion=gini, max_features=log2, n_estimators=15 ..............\n",
      "[CV]  criterion=gini, max_features=log2, n_estimators=15, score=0.9242424242424242, total=   0.0s\n",
      "[CV] criterion=gini, max_features=log2, n_estimators=20 ..............\n",
      "[CV]  criterion=gini, max_features=log2, n_estimators=20, score=0.9117647058823529, total=   0.0s\n",
      "[CV] criterion=gini, max_features=log2, n_estimators=20 ..............\n",
      "[CV]  criterion=gini, max_features=log2, n_estimators=20, score=0.9117647058823529, total=   0.0s\n",
      "[CV] criterion=gini, max_features=log2, n_estimators=20 ..............\n",
      "[CV]  criterion=gini, max_features=log2, n_estimators=20, score=0.9393939393939394, total=   0.0s\n",
      "[CV] criterion=entropy, max_features=auto, n_estimators=1 ............\n",
      "[CV]  criterion=entropy, max_features=auto, n_estimators=1, score=0.9117647058823529, total=   0.0s\n",
      "[CV] criterion=entropy, max_features=auto, n_estimators=1 ............\n",
      "[CV]  criterion=entropy, max_features=auto, n_estimators=1, score=0.8970588235294118, total=   0.0s\n",
      "[CV] criterion=entropy, max_features=auto, n_estimators=1 ............\n",
      "[CV]  criterion=entropy, max_features=auto, n_estimators=1, score=0.7727272727272727, total=   0.0s\n",
      "[CV] criterion=entropy, max_features=auto, n_estimators=5 ............\n",
      "[CV]  criterion=entropy, max_features=auto, n_estimators=5, score=0.8382352941176471, total=   0.0s\n",
      "[CV] criterion=entropy, max_features=auto, n_estimators=5 ............\n",
      "[CV]  criterion=entropy, max_features=auto, n_estimators=5, score=0.8529411764705882, total=   0.0s\n",
      "[CV] criterion=entropy, max_features=auto, n_estimators=5 ............\n"
     ]
    },
    {
     "name": "stdout",
     "output_type": "stream",
     "text": [
      "[CV]  criterion=entropy, max_features=auto, n_estimators=5, score=0.8939393939393939, total=   0.0s\n",
      "[CV] criterion=entropy, max_features=auto, n_estimators=10 ...........\n",
      "[CV]  criterion=entropy, max_features=auto, n_estimators=10, score=0.8823529411764706, total=   0.0s\n",
      "[CV] criterion=entropy, max_features=auto, n_estimators=10 ...........\n",
      "[CV]  criterion=entropy, max_features=auto, n_estimators=10, score=0.8676470588235294, total=   0.0s\n",
      "[CV] criterion=entropy, max_features=auto, n_estimators=10 ...........\n",
      "[CV]  criterion=entropy, max_features=auto, n_estimators=10, score=0.9090909090909091, total=   0.0s\n",
      "[CV] criterion=entropy, max_features=auto, n_estimators=15 ...........\n",
      "[CV]  criterion=entropy, max_features=auto, n_estimators=15, score=0.9411764705882353, total=   0.0s\n",
      "[CV] criterion=entropy, max_features=auto, n_estimators=15 ...........\n",
      "[CV]  criterion=entropy, max_features=auto, n_estimators=15, score=0.8970588235294118, total=   0.0s\n",
      "[CV] criterion=entropy, max_features=auto, n_estimators=15 ...........\n",
      "[CV]  criterion=entropy, max_features=auto, n_estimators=15, score=0.9545454545454546, total=   0.0s\n",
      "[CV] criterion=entropy, max_features=auto, n_estimators=20 ...........\n",
      "[CV]  criterion=entropy, max_features=auto, n_estimators=20, score=0.8970588235294118, total=   0.0s\n",
      "[CV] criterion=entropy, max_features=auto, n_estimators=20 ...........\n",
      "[CV]  criterion=entropy, max_features=auto, n_estimators=20, score=0.8970588235294118, total=   0.0s\n",
      "[CV] criterion=entropy, max_features=auto, n_estimators=20 ...........\n",
      "[CV]  criterion=entropy, max_features=auto, n_estimators=20, score=0.8939393939393939, total=   0.0s\n",
      "[CV] criterion=entropy, max_features=sqrt, n_estimators=1 ............\n",
      "[CV]  criterion=entropy, max_features=sqrt, n_estimators=1, score=0.8382352941176471, total=   0.0s\n",
      "[CV] criterion=entropy, max_features=sqrt, n_estimators=1 ............\n",
      "[CV]  criterion=entropy, max_features=sqrt, n_estimators=1, score=0.7941176470588235, total=   0.0s\n",
      "[CV] criterion=entropy, max_features=sqrt, n_estimators=1 ............\n",
      "[CV]  criterion=entropy, max_features=sqrt, n_estimators=1, score=0.8787878787878788, total=   0.0s\n",
      "[CV] criterion=entropy, max_features=sqrt, n_estimators=5 ............\n",
      "[CV]  criterion=entropy, max_features=sqrt, n_estimators=5, score=0.8235294117647058, total=   0.0s\n",
      "[CV] criterion=entropy, max_features=sqrt, n_estimators=5 ............\n",
      "[CV]  criterion=entropy, max_features=sqrt, n_estimators=5, score=0.8529411764705882, total=   0.0s\n",
      "[CV] criterion=entropy, max_features=sqrt, n_estimators=5 ............\n",
      "[CV]  criterion=entropy, max_features=sqrt, n_estimators=5, score=0.9393939393939394, total=   0.0s\n",
      "[CV] criterion=entropy, max_features=sqrt, n_estimators=10 ...........\n",
      "[CV]  criterion=entropy, max_features=sqrt, n_estimators=10, score=0.8823529411764706, total=   0.0s\n",
      "[CV] criterion=entropy, max_features=sqrt, n_estimators=10 ...........\n",
      "[CV]  criterion=entropy, max_features=sqrt, n_estimators=10, score=0.8529411764705882, total=   0.0s\n",
      "[CV] criterion=entropy, max_features=sqrt, n_estimators=10 ...........\n",
      "[CV]  criterion=entropy, max_features=sqrt, n_estimators=10, score=0.9393939393939394, total=   0.0s\n",
      "[CV] criterion=entropy, max_features=sqrt, n_estimators=15 ...........\n",
      "[CV]  criterion=entropy, max_features=sqrt, n_estimators=15, score=0.8676470588235294, total=   0.0s\n",
      "[CV] criterion=entropy, max_features=sqrt, n_estimators=15 ...........\n",
      "[CV]  criterion=entropy, max_features=sqrt, n_estimators=15, score=0.8970588235294118, total=   0.0s\n",
      "[CV] criterion=entropy, max_features=sqrt, n_estimators=15 ...........\n",
      "[CV]  criterion=entropy, max_features=sqrt, n_estimators=15, score=0.9242424242424242, total=   0.0s\n",
      "[CV] criterion=entropy, max_features=sqrt, n_estimators=20 ...........\n",
      "[CV]  criterion=entropy, max_features=sqrt, n_estimators=20, score=0.8382352941176471, total=   0.0s\n",
      "[CV] criterion=entropy, max_features=sqrt, n_estimators=20 ...........\n",
      "[CV]  criterion=entropy, max_features=sqrt, n_estimators=20, score=0.8823529411764706, total=   0.0s\n",
      "[CV] criterion=entropy, max_features=sqrt, n_estimators=20 ...........\n",
      "[CV]  criterion=entropy, max_features=sqrt, n_estimators=20, score=0.9242424242424242, total=   0.0s\n",
      "[CV] criterion=entropy, max_features=log2, n_estimators=1 ............\n",
      "[CV]  criterion=entropy, max_features=log2, n_estimators=1, score=0.8823529411764706, total=   0.0s\n",
      "[CV] criterion=entropy, max_features=log2, n_estimators=1 ............\n",
      "[CV]  criterion=entropy, max_features=log2, n_estimators=1, score=0.7941176470588235, total=   0.0s\n",
      "[CV] criterion=entropy, max_features=log2, n_estimators=1 ............\n",
      "[CV]  criterion=entropy, max_features=log2, n_estimators=1, score=0.8333333333333334, total=   0.0s\n",
      "[CV] criterion=entropy, max_features=log2, n_estimators=5 ............\n",
      "[CV]  criterion=entropy, max_features=log2, n_estimators=5, score=0.8676470588235294, total=   0.0s\n",
      "[CV] criterion=entropy, max_features=log2, n_estimators=5 ............\n",
      "[CV]  criterion=entropy, max_features=log2, n_estimators=5, score=0.8676470588235294, total=   0.0s\n",
      "[CV] criterion=entropy, max_features=log2, n_estimators=5 ............\n",
      "[CV]  criterion=entropy, max_features=log2, n_estimators=5, score=0.8939393939393939, total=   0.0s\n",
      "[CV] criterion=entropy, max_features=log2, n_estimators=10 ...........\n",
      "[CV]  criterion=entropy, max_features=log2, n_estimators=10, score=0.8382352941176471, total=   0.0s\n",
      "[CV] criterion=entropy, max_features=log2, n_estimators=10 ...........\n",
      "[CV]  criterion=entropy, max_features=log2, n_estimators=10, score=0.8529411764705882, total=   0.0s\n",
      "[CV] criterion=entropy, max_features=log2, n_estimators=10 ...........\n",
      "[CV]  criterion=entropy, max_features=log2, n_estimators=10, score=0.9242424242424242, total=   0.0s\n",
      "[CV] criterion=entropy, max_features=log2, n_estimators=15 ...........\n",
      "[CV]  criterion=entropy, max_features=log2, n_estimators=15, score=0.8823529411764706, total=   0.0s\n",
      "[CV] criterion=entropy, max_features=log2, n_estimators=15 ...........\n",
      "[CV]  criterion=entropy, max_features=log2, n_estimators=15, score=0.8823529411764706, total=   0.0s\n",
      "[CV] criterion=entropy, max_features=log2, n_estimators=15 ...........\n",
      "[CV]  criterion=entropy, max_features=log2, n_estimators=15, score=0.9545454545454546, total=   0.0s\n",
      "[CV] criterion=entropy, max_features=log2, n_estimators=20 ...........\n",
      "[CV]  criterion=entropy, max_features=log2, n_estimators=20, score=0.8529411764705882, total=   0.0s\n",
      "[CV] criterion=entropy, max_features=log2, n_estimators=20 ...........\n",
      "[CV]  criterion=entropy, max_features=log2, n_estimators=20, score=0.8529411764705882, total=   0.0s\n",
      "[CV] criterion=entropy, max_features=log2, n_estimators=20 ...........\n",
      "[CV]  criterion=entropy, max_features=log2, n_estimators=20, score=0.9545454545454546, total=   0.0s\n"
     ]
    },
    {
     "name": "stderr",
     "output_type": "stream",
     "text": [
      "[Parallel(n_jobs=1)]: Done  90 out of  90 | elapsed:    3.4s finished\n"
     ]
    },
    {
     "data": {
      "text/plain": [
       "GridSearchCV(cv=None, error_score='raise',\n",
       "       estimator=ExtraTreesClassifier(bootstrap=False, class_weight=None, criterion='gini',\n",
       "           max_depth=None, max_features='auto', max_leaf_nodes=None,\n",
       "           min_impurity_decrease=0.0, min_impurity_split=None,\n",
       "           min_samples_leaf=1, min_samples_split=2,\n",
       "           min_weight_fraction_leaf=0.0, n_estimators=10, n_jobs=1,\n",
       "           oob_score=False, random_state=None, verbose=0, warm_start=False),\n",
       "       fit_params=None, iid=True, n_jobs=1,\n",
       "       param_grid={'max_features': ['auto', 'sqrt', 'log2'], 'criterion': ['gini', 'entropy'], 'n_estimators': [1, 5, 10, 15, 20]},\n",
       "       pre_dispatch='2*n_jobs', refit=True, return_train_score='warn',\n",
       "       scoring=None, verbose=3)"
      ]
     },
     "execution_count": 46,
     "metadata": {},
     "output_type": "execute_result"
    }
   ],
   "source": [
    "#Fiting our model based on the hyper-parametres and the classifier selected\n",
    "grid.fit(X_train,Y_train)"
   ]
  },
  {
   "cell_type": "code",
   "execution_count": 49,
   "metadata": {},
   "outputs": [
    {
     "data": {
      "text/plain": [
       "{'criterion': 'entropy', 'max_features': 'auto', 'n_estimators': 15}"
      ]
     },
     "execution_count": 49,
     "metadata": {},
     "output_type": "execute_result"
    }
   ],
   "source": [
    "#Finding the best hyper-parametres for our model depening upon the dataset\n",
    "grid.best_params_"
   ]
  },
  {
   "cell_type": "code",
   "execution_count": 50,
   "metadata": {},
   "outputs": [
    {
     "data": {
      "text/plain": [
       "ExtraTreesClassifier(bootstrap=False, class_weight=None, criterion='entropy',\n",
       "           max_depth=None, max_features='auto', max_leaf_nodes=None,\n",
       "           min_impurity_decrease=0.0, min_impurity_split=None,\n",
       "           min_samples_leaf=1, min_samples_split=2,\n",
       "           min_weight_fraction_leaf=0.0, n_estimators=15, n_jobs=1,\n",
       "           oob_score=False, random_state=None, verbose=0, warm_start=False)"
      ]
     },
     "execution_count": 50,
     "metadata": {},
     "output_type": "execute_result"
    }
   ],
   "source": [
    "grid.best_estimator_"
   ]
  },
  {
   "cell_type": "code",
   "execution_count": 51,
   "metadata": {
    "collapsed": true
   },
   "outputs": [],
   "source": [
    "g_prediction = grid.predict(X_test)"
   ]
  },
  {
   "cell_type": "code",
   "execution_count": 52,
   "metadata": {},
   "outputs": [
    {
     "name": "stdout",
     "output_type": "stream",
     "text": [
      "Accuracy on the training subset: 1.000\n",
      "Accuracy on the test subset: 0.922\n"
     ]
    }
   ],
   "source": [
    "print('Accuracy on the training subset: {:.3f}'.format(grid.score(X_train, Y_train)))\n",
    "print('Accuracy on the test subset: {:.3f}'.format(grid.score(X_test, Y_test)))"
   ]
  },
  {
   "cell_type": "code",
   "execution_count": 53,
   "metadata": {},
   "outputs": [
    {
     "name": "stdout",
     "output_type": "stream",
     "text": [
      "[[37  0]\n",
      " [ 4 10]]\n"
     ]
    }
   ],
   "source": [
    "print(confusion_matrix(Y_test,g_prediction))"
   ]
  },
  {
   "cell_type": "code",
   "execution_count": 54,
   "metadata": {},
   "outputs": [
    {
     "name": "stderr",
     "output_type": "stream",
     "text": [
      "C:\\Users\\chava\\Anaconda3\\lib\\site-packages\\sklearn\\cross_validation.py:41: DeprecationWarning: This module was deprecated in version 0.18 in favor of the model_selection module into which all the refactored classes and functions are moved. Also note that the interface of the new CV iterators are different from that of this module. This module will be removed in 0.20.\n",
      "  \"This module will be removed in 0.20.\", DeprecationWarning)\n"
     ]
    },
    {
     "data": {
      "text/plain": [
       "array([ 0.81818182,  1.        ,  1.        ,  0.8       ,  1.        ])"
      ]
     },
     "execution_count": 54,
     "metadata": {},
     "output_type": "execute_result"
    }
   ],
   "source": [
    "from sklearn.cross_validation import cross_val_score\n",
    "etr_cv = ExtraTreesClassifier()\n",
    "scores = cross_val_score(etr_cv, X_test, Y_test, cv = 5)\n",
    "scores"
   ]
  },
  {
   "cell_type": "code",
   "execution_count": 55,
   "metadata": {},
   "outputs": [
    {
     "data": {
      "text/plain": [
       "0.92363636363636359"
      ]
     },
     "execution_count": 55,
     "metadata": {},
     "output_type": "execute_result"
    }
   ],
   "source": [
    "scores.mean()"
   ]
  },
  {
   "cell_type": "code",
   "execution_count": 56,
   "metadata": {
    "collapsed": true
   },
   "outputs": [],
   "source": [
    "from sklearn.feature_selection import RFECV\n",
    "\n",
    "# The \"accuracy\" scoring is proportional to the number of correct classifications\n",
    "etr_rfecv = ExtraTreesClassifier() \n",
    "rfecv = RFECV(estimator=etr_rfecv, step=1, cv=8, scoring='accuracy')   #5-fold cross-validation\n",
    "rfecv = rfecv.fit(X_train_scaled, Y_train)\n",
    "\n"
   ]
  },
  {
   "cell_type": "code",
   "execution_count": 57,
   "metadata": {},
   "outputs": [
    {
     "name": "stdout",
     "output_type": "stream",
     "text": [
      "Optimal number of features : 35\n"
     ]
    }
   ],
   "source": [
    "print('Optimal number of features :', rfecv.n_features_)\n"
   ]
  },
  {
   "cell_type": "code",
   "execution_count": 58,
   "metadata": {},
   "outputs": [
    {
     "name": "stdout",
     "output_type": "stream",
     "text": [
      "Best features : Index(['CODE_A', 'TIME_A', 'TIME_B', 'RADIUS', 'TEXTURE', 'PERIMETR', 'AREA',\n",
      "       'SMOOTH', 'CONCV', 'CONV_PT', 'SYMM', 'FRACT_D', 'SRADIUS', 'STEXTURE',\n",
      "       'SPERIMET', 'SAREA', 'SCOMPCT', 'SCONCV', 'SCONV_PT', 'SSYMM',\n",
      "       'SFRACT_D', 'WRADIUS', 'WTEXTURE', 'WPERIMET', 'WAREA', 'WSMOOTH',\n",
      "       'WCOMPCT', 'WCONCV', 'WCONV_PT', 'WSYMM', 'WFRACT_D', 'SIZE',\n",
      "       'NODE_ALL', 'CHEMO', 'HORMO'],\n",
      "      dtype='object')\n"
     ]
    }
   ],
   "source": [
    "print('Best features :', X_train_scaled.columns[rfecv.support_])"
   ]
  },
  {
   "cell_type": "code",
   "execution_count": 59,
   "metadata": {
    "collapsed": true
   },
   "outputs": [],
   "source": [
    "rfecv_prediction = rfecv.predict(X_test)"
   ]
  },
  {
   "cell_type": "code",
   "execution_count": 60,
   "metadata": {},
   "outputs": [
    {
     "name": "stdout",
     "output_type": "stream",
     "text": [
      "Accuracy on the training subset: 0.827\n",
      "Accuracy on the test subset: 0.725\n"
     ]
    }
   ],
   "source": [
    "print('Accuracy on the training subset: {:.3f}'.format(rfecv.score(X_train, Y_train)))\n",
    "print('Accuracy on the test subset: {:.3f}'.format(rfecv.score(X_test, Y_test)))"
   ]
  },
  {
   "cell_type": "code",
   "execution_count": 61,
   "metadata": {},
   "outputs": [
    {
     "name": "stdout",
     "output_type": "stream",
     "text": [
      "[[37  0]\n",
      " [14  0]]\n"
     ]
    }
   ],
   "source": [
    "print(confusion_matrix(Y_test,rfecv_prediction))"
   ]
  },
  {
   "cell_type": "markdown",
   "metadata": {},
   "source": [
    "Increased True Negatives : 7\n",
    "\n",
    "### Evaluation using roc score:"
   ]
  },
  {
   "cell_type": "code",
   "execution_count": 62,
   "metadata": {
    "collapsed": true
   },
   "outputs": [],
   "source": [
    "from sklearn.metrics import accuracy_score\n",
    "from sklearn.metrics import roc_auc_score\n",
    "from sklearn.metrics import roc_curve\n",
    "from sklearn.metrics import classification_report\n"
   ]
  },
  {
   "cell_type": "code",
   "execution_count": 63,
   "metadata": {},
   "outputs": [
    {
     "name": "stdout",
     "output_type": "stream",
     "text": [
      "Unscaled ETR AUC:  0.714285714286\n"
     ]
    }
   ],
   "source": [
    "log_roc_auc = roc_auc_score(Y_test, etr.predict(X_test))\n",
    "print (\"Unscaled ETR AUC: \", log_roc_auc )"
   ]
  },
  {
   "cell_type": "code",
   "execution_count": 64,
   "metadata": {
    "collapsed": true
   },
   "outputs": [],
   "source": [
    "fpr, tpr, thresholds = roc_curve(Y_test, etr.predict_proba(X_test)[:,1])"
   ]
  },
  {
   "cell_type": "code",
   "execution_count": 65,
   "metadata": {},
   "outputs": [
    {
     "name": "stdout",
     "output_type": "stream",
     "text": [
      "Scaled ETR AUC:  0.714285714286\n"
     ]
    }
   ],
   "source": [
    "log_roc_auc2 = roc_auc_score(Y_test, etr1.predict(X_test_scaled))\n",
    "print (\"Scaled ETR AUC: \", log_roc_auc2 )\n",
    "fpr2, tpr2, thresholds2 = roc_curve(Y_test, etr1.predict_proba(X_test_scaled)[:,1]) ##— Scaled AUC"
   ]
  },
  {
   "cell_type": "code",
   "execution_count": 66,
   "metadata": {},
   "outputs": [
    {
     "name": "stdout",
     "output_type": "stream",
     "text": [
      "Scaled ETR AUC with GridSearch :  0.642857142857\n"
     ]
    }
   ],
   "source": [
    "log_roc_auc3 = roc_auc_score(Y_test, grid.predict(X_test_scaled))\n",
    "print (\"Scaled ETR AUC with GridSearch : \", log_roc_auc3 )\n",
    "fpr3, tpr3, thresholds3 = roc_curve(Y_test, grid.predict_proba(X_test_scaled)[:,1]) ##— Scaled with gridSearch AUC"
   ]
  },
  {
   "cell_type": "code",
   "execution_count": 67,
   "metadata": {},
   "outputs": [
    {
     "name": "stdout",
     "output_type": "stream",
     "text": [
      "Scaled ETR AUC with RFECV :  0.714285714286\n"
     ]
    }
   ],
   "source": [
    "log_roc_auc4 = roc_auc_score(Y_test, rfecv.predict(X_test_scaled))\n",
    "print (\"Scaled ETR AUC with RFECV : \", log_roc_auc4 )\n",
    "fpr4, tpr4, thresholds4 = roc_curve(Y_test, rfecv.predict_proba(X_test_scaled)[:,1]) ##— Scaled with RFECV AUC"
   ]
  },
  {
   "cell_type": "code",
   "execution_count": 68,
   "metadata": {},
   "outputs": [
    {
     "data": {
      "image/png": "[encoded data removed]",
      "text/plain": [
       "<matplotlib.figure.Figure at 0x1fb108b21d0>"
      ]
     },
     "metadata": {},
     "output_type": "display_data"
    }
   ],
   "source": [
    "plt.figure(figsize = (10,8))\n",
    "plt.plot(fpr, tpr, label =\"Unscaled (area = %0.2f)\" % log_roc_auc, color =\"blue\")\n",
    "plt.plot(fpr2, tpr2, label =\"Scaled (area = %0.2f)\" % log_roc_auc2, color =\"red\")\n",
    "plt.plot(fpr3, tpr3, label =\"Scaled with GRID (area = %0.2f)\" % log_roc_auc3, color =\"green\")\n",
    "plt.plot(fpr4, tpr4, label =\"Scaled with RFECV (area = %0.2f)\" % log_roc_auc4, color =\"aquamarine\")\n",
    "\n",
    "plt.plot([0,1],[0,1], 'k--')\n",
    "plt.xlim([0.0,1.0])\n",
    "plt.ylim([0.0,1.05])\n",
    "plt.xlabel('False positive rate')\n",
    "plt.ylabel('True positive rate')\n",
    "plt.title('Receiver operating characteristic - ExtraTreeClassifier')\n",
    "plt.legend(loc=\"lower right\")\n",
    "plt.show()"
   ]
  },
  {
   "cell_type": "code",
   "execution_count": null,
   "metadata": {
    "collapsed": true
   },
   "outputs": [],
   "source": []
  }
 ],
 "metadata": {
  "kernelspec": {
   "display_name": "Python 3",
   "language": "python",
   "name": "python3"
  },
  "language_info": {
   "codemirror_mode": {
    "name": "ipython",
    "version": 3
   },
   "file_extension": ".py",
   "mimetype": "text/x-python",
   "name": "python",
   "nbconvert_exporter": "python",
   "pygments_lexer": "ipython3",
   "version": "3.6.3"
  }
 },
 "nbformat": 4,
 "nbformat_minor": 2
}
