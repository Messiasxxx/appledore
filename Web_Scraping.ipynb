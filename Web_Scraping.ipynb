{
 "cells": [
  {
   "cell_type": "markdown",
   "metadata": {},
   "source": [
    "# ASSIGNMENT 1\n",
    "---\n",
    "### Part B : Web Scraping\n",
    "\n",
    "### Snapdeal (www.snapdeal.com)\n",
    "Online shopping site in India to shop Electronics, Mobile, Men & Women Clothing, Shoes, Home & Kitchen appliances online on Snapdeal in India."
   ]
  },
  {
   "cell_type": "markdown",
   "metadata": {},
   "source": [
    "#### Importing Packages\n",
    "Importing BeautifulSoup to parse the HTML text and urllib to download the pages"
   ]
  },
  {
   "cell_type": "code",
   "execution_count": 1,
   "metadata": {
    "collapsed": true
   },
   "outputs": [],
   "source": [
    "import urllib3\n",
    "urllib3.disable_warnings(urllib3.exceptions.InsecureRequestWarning)\n",
    "from urllib.request import urlopen as uReq\n",
    "from bs4 import BeautifulSoup as soup\n",
    "import re\n",
    "import csv\n",
    "import datetime"
   ]
  },
  {
   "cell_type": "code",
   "execution_count": 2,
   "metadata": {},
   "outputs": [
    {
     "name": "stdout",
     "output_type": "stream",
     "text": [
      "https://www.snapdeal.com/search?keyword=laptops&santizedKeyword=phones&catId=0&categoryId=0&suggested=false&vertical=p&noOfResults=20&clickSrc=go_header&lastKeyword=&prodCatId=&changeBackToAll=false&foundInAll=false&categoryIdSearched=&cityPageUrl=&categoryUrl=&url=&utmContent=&dealDetail=&sort=rlvncy\n"
     ]
    }
   ],
   "source": [
    "url = 'https://www.snapdeal.com/search?keyword=laptops&santizedKeyword=phones&catId=0&categoryId=0&suggested=false&vertical=p&noOfResults=20&clickSrc=go_header&lastKeyword=&prodCatId=&changeBackToAll=false&foundInAll=false&categoryIdSearched=&cityPageUrl=&categoryUrl=&url=&utmContent=&dealDetail=&sort=rlvncy'\n",
    "print(url)"
   ]
  },
  {
   "cell_type": "markdown",
   "metadata": {},
   "source": [
    "**Checking to see if the link is responding**"
   ]
  },
  {
   "cell_type": "code",
   "execution_count": 3,
   "metadata": {},
   "outputs": [
    {
     "data": {
      "text/plain": [
       "200"
      ]
     },
     "execution_count": 3,
     "metadata": {},
     "output_type": "execute_result"
    }
   ],
   "source": [
    "http = urllib3.PoolManager()\n",
    "response = http.request('GET',url)\n",
    "response.status"
   ]
  },
  {
   "cell_type": "markdown",
   "metadata": {},
   "source": [
    "This means the link is active and responding"
   ]
  },
  {
   "cell_type": "markdown",
   "metadata": {},
   "source": [
    "**Opening connection and grabbing the page**"
   ]
  },
  {
   "cell_type": "code",
   "execution_count": 4,
   "metadata": {
    "collapsed": true
   },
   "outputs": [],
   "source": [
    "uClient = uReq(url)\n",
    "page_html = uClient.read()\n",
    "uClient.close()"
   ]
  },
  {
   "cell_type": "markdown",
   "metadata": {},
   "source": [
    "The _uClient_ opens up the connection to the webpage, offloads it into a variable _pagehtml_ and then closes it."
   ]
  },
  {
   "cell_type": "markdown",
   "metadata": {},
   "source": [
    "**Parsing the page using Beautiful soup**"
   ]
  },
  {
   "cell_type": "code",
   "execution_count": 5,
   "metadata": {},
   "outputs": [
    {
     "name": "stdout",
     "output_type": "stream",
     "text": [
      "<p>Notifications can be turned off anytime from settings.</p>\n"
     ]
    }
   ],
   "source": [
    "page_soup = soup(page_html, \"html.parser\")\n",
    "print(page_soup.p)"
   ]
  },
  {
   "cell_type": "markdown",
   "metadata": {},
   "source": [
    "The function parses page to the first paragraph tag to retrieve the text contained within it."
   ]
  },
  {
   "cell_type": "markdown",
   "metadata": {},
   "source": [
    "**Traversing the web page to find products (Laptops)**"
   ]
  },
  {
   "cell_type": "code",
   "execution_count": 8,
   "metadata": {
    "collapsed": true
   },
   "outputs": [],
   "source": [
    "prod = page_soup.findAll(\"div\",{\"class\":\"product-tuple-image\"})"
   ]
  },
  {
   "cell_type": "markdown",
   "metadata": {},
   "source": [
    "The findAll() function obtains the elements mentioned in its parenthesis. In my case, after inspecting elements of the page, I found that the products on the page were housed inside the div tag.  "
   ]
  },
  {
   "cell_type": "code",
   "execution_count": 9,
   "metadata": {},
   "outputs": [
    {
     "data": {
      "text/plain": [
       "20"
      ]
     },
     "execution_count": 9,
     "metadata": {},
     "output_type": "execute_result"
    }
   ],
   "source": [
    "len(prod)"
   ]
  },
  {
   "cell_type": "markdown",
   "metadata": {},
   "source": [
    "We have got 20 laptops on our webpage and this is confirmed by the length of the variable prod. The HTML of the 1st product (i.e product at position 0) is as follows from which we obtain the link and description of the laptop."
   ]
  },
  {
   "cell_type": "code",
   "execution_count": 10,
   "metadata": {},
   "outputs": [
    {
     "data": {
      "text/plain": [
       "<div class=\"product-tuple-image \">\n",
       "<a class=\"dp-widget-link\" data-position=\"0;247665\" href=\"https://www.snapdeal.com/product/hp-notebook-amd-apu-e1/669922187189\" pogid=\"669922187189\" target=\"_blank\">\n",
       "<div class=\"bg-image hidden\"></div>\n",
       "<picture class=\"picture-elem\">\n",
       "<source class=\"product-image\" media=\"(min-width: 1430px)\" srcset=\"https://n3.sdlcdn.com/imgs/g/e/6/large/Hp-245-SDL593005603-1-8a31b.jpg\" title=\"HP 15-bu003tu Laptop (6th Gen Intel Core i3- 4GB RAM- 1TB HDD- 39.62cm(15.6)- DOS) (Black)\"/>\n",
       "<img class=\"product-image \" src=\"https://n3.sdlcdn.com/imgs/g/e/6/230X258_sharpened/Hp-245-SDL593005603-1-8a31b.jpg\" title=\"HP 15-bu003tu Laptop (6th Gen Intel Core i3- 4GB RAM- 1TB HDD- 39.62cm(15.6)- DOS) (Black)\"/>\n",
       "</picture>\n",
       "<input class=\"compareImg\" type=\"hidden\" value=\"https://n3.sdlcdn.com/imgs/g/e/6/64x75/Hp-245-SDL593005603-1-8a31b.jpg\">\n",
       "</input></a>\n",
       "<div class=\"clearfix row-disc\">\n",
       "<div cartid=\"\" class=\"center quick-view-bar btn btn-theme-secondary \" pogid=\"669922187189\" supc=\"SDL593005603\">\n",
       "\t\t\t\t\tQuick View</div>\n",
       "</div>\n",
       "</div>"
      ]
     },
     "execution_count": 10,
     "metadata": {},
     "output_type": "execute_result"
    }
   ],
   "source": [
    "prod[0]"
   ]
  },
  {
   "cell_type": "code",
   "execution_count": 11,
   "metadata": {
    "collapsed": true
   },
   "outputs": [],
   "source": [
    "laptop = prod[0]"
   ]
  },
  {
   "cell_type": "markdown",
   "metadata": {},
   "source": [
    "**Parsing the html to find link of the laptop**"
   ]
  },
  {
   "cell_type": "code",
   "execution_count": 14,
   "metadata": {},
   "outputs": [
    {
     "data": {
      "text/plain": [
       "[<a class=\"dp-widget-link\" data-position=\"0;247665\" href=\"https://www.snapdeal.com/product/hp-notebook-amd-apu-e1/669922187189\" pogid=\"669922187189\" target=\"_blank\">\n",
       " <div class=\"bg-image hidden\"></div>\n",
       " <picture class=\"picture-elem\">\n",
       " <source class=\"product-image\" media=\"(min-width: 1430px)\" srcset=\"https://n3.sdlcdn.com/imgs/g/e/6/large/Hp-245-SDL593005603-1-8a31b.jpg\" title=\"HP 15-bu003tu Laptop (6th Gen Intel Core i3- 4GB RAM- 1TB HDD- 39.62cm(15.6)- DOS) (Black)\"/>\n",
       " <img class=\"product-image \" src=\"https://n3.sdlcdn.com/imgs/g/e/6/230X258_sharpened/Hp-245-SDL593005603-1-8a31b.jpg\" title=\"HP 15-bu003tu Laptop (6th Gen Intel Core i3- 4GB RAM- 1TB HDD- 39.62cm(15.6)- DOS) (Black)\"/>\n",
       " </picture>\n",
       " <input class=\"compareImg\" type=\"hidden\" value=\"https://n3.sdlcdn.com/imgs/g/e/6/64x75/Hp-245-SDL593005603-1-8a31b.jpg\">\n",
       " </input></a>]"
      ]
     },
     "execution_count": 14,
     "metadata": {},
     "output_type": "execute_result"
    }
   ],
   "source": [
    "laptop.findAll(\"a\",{\"class\":\"dp-widget-link\"})"
   ]
  },
  {
   "cell_type": "code",
   "execution_count": 16,
   "metadata": {},
   "outputs": [
    {
     "data": {
      "text/plain": [
       "'https://www.snapdeal.com/product/hp-notebook-amd-apu-e1/669922187189'"
      ]
     },
     "execution_count": 16,
     "metadata": {},
     "output_type": "execute_result"
    }
   ],
   "source": [
    "laptop.a[\"href\"]"
   ]
  },
  {
   "cell_type": "markdown",
   "metadata": {},
   "source": [
    "**Parsing html to obtain the description of the product above**"
   ]
  },
  {
   "cell_type": "code",
   "execution_count": 17,
   "metadata": {},
   "outputs": [
    {
     "data": {
      "text/plain": [
       "[<img class=\"product-image \" src=\"https://n3.sdlcdn.com/imgs/g/e/6/230X258_sharpened/Hp-245-SDL593005603-1-8a31b.jpg\" title=\"HP 15-bu003tu Laptop (6th Gen Intel Core i3- 4GB RAM- 1TB HDD- 39.62cm(15.6)- DOS) (Black)\"/>]"
      ]
     },
     "execution_count": 17,
     "metadata": {},
     "output_type": "execute_result"
    }
   ],
   "source": [
    "laptop.findAll(\"img\",{\"class\":\"product-image\"})"
   ]
  },
  {
   "cell_type": "code",
   "execution_count": 19,
   "metadata": {},
   "outputs": [
    {
     "data": {
      "text/plain": [
       "'HP 15-bu003tu Laptop (6th Gen Intel Core i3- 4GB RAM- 1TB HDD- 39.62cm(15.6)- DOS) (Black)'"
      ]
     },
     "execution_count": 19,
     "metadata": {},
     "output_type": "execute_result"
    }
   ],
   "source": [
    "laptop.img[\"title\"]"
   ]
  },
  {
   "cell_type": "markdown",
   "metadata": {},
   "source": [
    "**Importing datetime**"
   ]
  },
  {
   "cell_type": "code",
   "execution_count": 20,
   "metadata": {
    "collapsed": true
   },
   "outputs": [],
   "source": [
    "import datetime"
   ]
  },
  {
   "cell_type": "code",
   "execution_count": 21,
   "metadata": {},
   "outputs": [
    {
     "name": "stdout",
     "output_type": "stream",
     "text": [
      "Current date and time:  2018-01-20 08:41:49.489600\n"
     ]
    }
   ],
   "source": [
    "print (\"Current date and time: \" , datetime.datetime.now())"
   ]
  },
  {
   "cell_type": "markdown",
   "metadata": {},
   "source": [
    "**Writing into .csv file**"
   ]
  },
  {
   "cell_type": "code",
   "execution_count": 31,
   "metadata": {},
   "outputs": [
    {
     "name": "stdout",
     "output_type": "stream",
     "text": [
      "Link: https://www.snapdeal.com/product/hp-notebook-amd-apu-e1/669922187189\n",
      "Description: HP 15-bu003tu Laptop (6th Gen Intel Core i3- 4GB RAM- 1TB HDD- 39.62cm(15.6)- DOS) (Black)\n",
      "DateTime:  2018-01-20 13:03:26.502349\n",
      "Status: 200\n",
      "Link: https://www.snapdeal.com/product/dell-15-3568-notebook-intel/651817715182\n",
      "Description: Dell 15 3568 Notebook Intel Celeron 4 GB 38.1cm(15) Linux/Ubuntu 1 GB Black\n",
      "DateTime:  2018-01-20 13:03:27.398735\n",
      "Status: 200\n",
      "Link: https://www.snapdeal.com/product/hp-pavilion-hp-15bw098au-netbook/629489719200\n",
      "Description: HP Pavilion 15BW098AU Netbook AMD APU A6 4 GB 39.62cm(15.6) DOS Not Applicable Black\n",
      "DateTime:  2018-01-20 13:03:28.236965\n",
      "Status: 200\n",
      "Link: https://www.snapdeal.com/product/lenovo-g5080-notebook-80e503g1in-5th/655137626663\n",
      "Description: Lenovo Ideapad 80T700EMIH (Pentium Quad Core- 4GB RAM- 500GB HDD- 39.62cm(15.6)- DOS) (Black)\n",
      "DateTime:  2018-01-20 13:03:28.984956\n",
      "Status: 200\n",
      "Link: https://www.snapdeal.com/product/asus-x-series-x541na-go125t/649364981941\n",
      "Description: Asus X Series X541NA - GO125T Notebook Intel Pentium 4 GB 39.62cm(15.6) Windows 10 Home without MS Office Not Applicable SILVER\n",
      "DateTime:  2018-01-20 13:03:30.703529\n",
      "Status: 200\n",
      "Link: https://www.snapdeal.com/product/lenovo-ideapad-80xh01gkin-notebook-core/627377233462\n",
      "Description: Lenovo Ideapad 320E 80XH01GKIN Notebook (6th Gen Intel Core i3- 4GB RAM- 1TB HDD- 39.62cm(15.6)- DOS) (Black)\n",
      "DateTime:  2018-01-20 13:03:31.706196\n",
      "Status: 200\n",
      "Link: https://www.snapdeal.com/product/iball-compbook-exemplaire-notebook-intel/642208106293\n",
      "Description: iBall CompBook- Exemplaire Notebook (Intel Atom- 2GB RAM- 32 GB eMMC- 35.56 cm (14)- Windows 10) (Brown)\n",
      "DateTime:  2018-01-20 13:03:32.524377\n",
      "Status: 200\n",
      "Link: https://www.snapdeal.com/product/lenovo-ideapad-80xh01gein-notebook-core/620909843871\n",
      "Description: Lenovo Ideapad 320E Notebook (6th Gen Intel Core i3- 4GB RAM- 1TB HDD- 39.62cm(15.6)- DOS) (Black)\n",
      "DateTime:  2018-01-20 13:03:33.346564\n",
      "Status: 200\n",
      "Link: https://www.snapdeal.com/product/hp-15-bg003au-notebook-amd/681982727463\n",
      "Description: HP 15-bg003au Notebook (AMD APU E2- 4GB RAM- 500GB HDD- 39.62 cm (15.6)- DOS) (Silver)\n",
      "DateTime:  2018-01-20 13:03:34.134662\n",
      "Status: 200\n",
      "Link: https://www.snapdeal.com/product/micromax-canvas-l1161-lapbook-intel/661756382388\n",
      "Description: Micromax Canvas Lapbook L1161 11.6-inch Laptop (Intel Atom/2GB/32GB/Windows 10), Black\n",
      "DateTime:  2018-01-20 13:03:34.980912\n",
      "Status: 200\n",
      "Link: https://www.snapdeal.com/product/dell-vostro-a553505uin9-notebook-core/652175121055\n",
      "Description: Dell Vostro 3568/ Core I5 7th gen/ 8gb/ 1Tb/ 15.6\n",
      "DateTime:  2018-01-20 13:03:35.779035\n",
      "Status: 200\n",
      "Link: https://www.snapdeal.com/product/acer-15-es152320dg-notebook-amd/647071864462\n",
      "Description: Acer 15 ES1-523-20DG (AMD E1 (7th gen)-4 GB RAM-1TB HDD- 39.62cm(15.6)-DOS) (Black)\n",
      "DateTime:  2018-01-20 13:03:36.615261\n",
      "Status: 200\n",
      "Link: https://www.snapdeal.com/product/dell-vostro-3568-notebook-core/665694388848\n",
      "Description: Dell Vostro 3568 Notebook (6th Gen Intel Core i3- 4GB RAM- 1TB HDD- 39.62cm (15.6)- Linux) (Black)\n",
      "DateTime:  2018-01-20 13:03:37.641993\n",
      "Status: 200\n",
      "Link: https://www.snapdeal.com/product/lenovo-15-v11080tl016lih-notebook-core/636256501387\n",
      "Description: Lenovo 15 V110-80TL016LIH Notebook (6th Gen Intel Core i3- 4GB RAM- 1TB HDD- 39.62cm(15.6)- DOS) (Black)\n",
      "DateTime:  2018-01-20 13:03:38.871264\n",
      "Status: 200\n",
      "Link: https://www.snapdeal.com/product/hp-g-series-245-g5/646577321413\n",
      "Description: HP G Series 245 G5 E2-7110 Notebook AMD APU E2 4 GB 35.56cm(14) DOS Not Applicable Black\n",
      "DateTime:  2018-01-20 13:03:40.505617\n",
      "Status: 200\n",
      "Link: https://www.snapdeal.com/product/hp-14-14bs583tu-notebook-core/627681979951\n",
      "Description: HP 14 14-bs583TU Notebook Core i3 (6th Generation) 4 GB 35.56cm(14) DOS Not Applicable Grey\n",
      "DateTime:  2018-01-20 13:03:41.327802\n",
      "Status: 200\n",
      "Link: https://www.snapdeal.com/product/lenovo-ideapad-lenovo-ip-310/679839376663\n",
      "Description: Lenovo Ideapad ip 310 Notebook Core i3 (6th Generation) 4 GB 39.62cm(15.6) DOS 2 GB Silver\n",
      "DateTime:  2018-01-20 13:03:42.380604\n",
      "Status: 200\n",
      "Link: https://www.snapdeal.com/product/acer-aspire-e55753203-notebook-core/636888164668\n",
      "Description: Acer Aspire E5-575-3203 Notebook Core i3 (6th Generation) 4 GB 39.62cm(15.6) Linux BLACK\n",
      "DateTime:  2018-01-20 13:03:43.173714\n",
      "Status: 200\n",
      "Link: https://www.snapdeal.com/product/iball-compbook-excelanceohd-notebook-intel/636356617959\n",
      "Description: iBall Compbook Excelance with OHD Notebook (Intel Atom- 2GB RAM- 32GB eMMC- 29.46cm(11.6)- Windows 10) (Brown)\n",
      "DateTime:  2018-01-20 13:03:43.910718\n",
      "Status: 200\n",
      "Link: https://www.snapdeal.com/product/lenovo-ideapad-80t700emih-notebook-intel/672152487615\n",
      "Description: Lenovo Ideapad 80T700EMIH Notebook Intel Pentium 4 GB 39.62cm(15.6) DOS Not Applicable Black\n",
      "DateTime:  2018-01-20 13:03:45.185068\n",
      "Status: 200\n"
     ]
    }
   ],
   "source": [
    "filename = \"snapdeal.csv\"\n",
    "f = open(filename, \"w\")\n",
    "\n",
    "headers = \"Link, Description, DateTime, Status\\n\"\n",
    "f.write(headers)\n",
    "\n",
    "for laptop in prod:\n",
    "    link = laptop.a[\"href\"]\n",
    "    print(\"Link: \" + link)\n",
    "    \n",
    "    desc = laptop.img[\"title\"]\n",
    "    description = desc.replace(\"\\n\",\"|\")\n",
    "    print(\"Description: \" + description)\n",
    "    \n",
    "    dt= datetime.datetime.now()\n",
    "    phone_datetime = str(dt)\n",
    "    print (\"DateTime: \" ,phone_datetime)\n",
    "    \n",
    "    response = http.request('GET',laptop.a[\"href\"])\n",
    "    x = response.status\n",
    "    status = str(x)\n",
    "    print(\"Status: \" + status)\n",
    "    \n",
    "    f.write(link + \",\" + description + \",\" + phone_datetime + \",\" + status + \"\\n\")\n",
    "    "
   ]
  },
  {
   "cell_type": "code",
   "execution_count": null,
   "metadata": {
    "collapsed": true
   },
   "outputs": [],
   "source": []
  }
 ],
 "metadata": {
  "kernelspec": {
   "display_name": "Python 3",
   "language": "python",
   "name": "python3"
  },
  "language_info": {
   "codemirror_mode": {
    "name": "ipython",
    "version": 3
   },
   "file_extension": ".py",
   "mimetype": "text/x-python",
   "name": "python",
   "nbconvert_exporter": "python",
   "pygments_lexer": "ipython3",
   "version": "3.6.3"
  }
 },
 "nbformat": 4,
 "nbformat_minor": 2
}
